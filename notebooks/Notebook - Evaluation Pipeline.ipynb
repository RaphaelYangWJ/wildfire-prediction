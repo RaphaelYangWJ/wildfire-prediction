{
 "cells": [
  {
   "cell_type": "markdown",
   "id": "cd53b0149939cb93",
   "metadata": {
    "collapsed": false
   },
   "source": [
    "# Notebook - Evaluation Pipeline"
   ]
  },
  {
   "cell_type": "markdown",
   "id": "9df0a7fa369da50c",
   "metadata": {
    "collapsed": false
   },
   "source": [
    "### Import modules"
   ]
  },
  {
   "cell_type": "code",
   "execution_count": 1,
   "id": "b3a6233688891ebd",
   "metadata": {
    "collapsed": false,
    "ExecuteTime": {
     "end_time": "2024-02-22T13:18:06.903839800Z",
     "start_time": "2024-02-22T13:18:02.128069100Z"
    }
   },
   "outputs": [],
   "source": [
    "import matplotlib.pyplot as plt\n",
    "import json\n",
    "import numpy as np\n",
    "import pandas as pd\n",
    "import torch.nn as nn\n",
    "import torch.utils.data as Data\n",
    "from tqdm import tqdm\n",
    "from sklearn import metrics\n",
    "import torch\n",
    "import omegaconf\n",
    "from sklearn.preprocessing import StandardScaler\n",
    "%matplotlib inline\n",
    "import warnings\n",
    "warnings.filterwarnings(\"ignore\")\n",
    "plt.rc(\"font\", family = \"Times New Roman\")"
   ]
  },
  {
   "cell_type": "code",
   "execution_count": 2,
   "id": "7fe61f23f1cc7fe6",
   "metadata": {
    "collapsed": false,
    "ExecuteTime": {
     "end_time": "2024-02-22T13:18:06.938343200Z",
     "start_time": "2024-02-22T13:18:06.904837100Z"
    }
   },
   "outputs": [],
   "source": [
    "# set seed\n",
    "torch.cuda.manual_seed(1)\n",
    "# Switch to GPU for Training\n",
    "device = torch.device(\"cuda\" if torch.cuda.is_available() else \"cpu\")\n",
    "# Clear GPU caches\n",
    "torch.cuda.empty_cache()\n",
    "# print(torch.cuda.memory_summary())"
   ]
  },
  {
   "cell_type": "markdown",
   "id": "d99db5319f17195c",
   "metadata": {
    "collapsed": false
   },
   "source": [
    "### Parameters Setup"
   ]
  },
  {
   "cell_type": "code",
   "outputs": [],
   "source": [
    "# === Load configuration file\n",
    "config_path = \"../config/config.yaml\"\n",
    "config = omegaconf.OmegaConf.load(config_path)\n",
    "trained_model_folder_no = config.evaluation.folder_no\n",
    "save_format = \"svg\""
   ],
   "metadata": {
    "collapsed": false,
    "ExecuteTime": {
     "end_time": "2024-02-22T13:18:06.996985500Z",
     "start_time": "2024-02-22T13:18:06.934822600Z"
    }
   },
   "id": "c1bc5eb8611d981c",
   "execution_count": 3
  },
  {
   "cell_type": "code",
   "execution_count": 4,
   "id": "75f8628b555b4d24",
   "metadata": {
    "collapsed": false,
    "ExecuteTime": {
     "end_time": "2024-02-22T13:18:06.997485Z",
     "start_time": "2024-02-22T13:18:06.982946100Z"
    }
   },
   "outputs": [],
   "source": [
    "batch_size = 20000 # 20000\n",
    "split_ratio = 0.8\n",
    "model_param_path = \"../trained_model/Train-Result-\"+ str(trained_model_folder_no)+ \"/trained_model.pth\"\n",
    "source_data_path = \"../trained_model/Train-Result-\"+ str(trained_model_folder_no)+ \"/feature_dataset.parquet\"\n",
    "region_dict_path = \"../raw_dataset/region_segmentation.json\""
   ]
  },
  {
   "cell_type": "markdown",
   "id": "5ac0df48a95640ce",
   "metadata": {
    "collapsed": false
   },
   "source": [
    "## A. Data Preparation"
   ]
  },
  {
   "cell_type": "markdown",
   "id": "3efcb98dabbdba8c",
   "metadata": {
    "collapsed": false
   },
   "source": [
    "### Load Dataset"
   ]
  },
  {
   "cell_type": "code",
   "execution_count": 5,
   "id": "83b3fb44605c1eba",
   "metadata": {
    "collapsed": false,
    "ExecuteTime": {
     "end_time": "2024-02-22T13:18:07.466992100Z",
     "start_time": "2024-02-22T13:18:06.999984900Z"
    }
   },
   "outputs": [
    {
     "name": "stdout",
     "output_type": "stream",
     "text": [
      "(96271, 16) (96271, 1)\n"
     ]
    }
   ],
   "source": [
    "# import dataset\n",
    "dataset = pd.read_parquet(source_data_path)\n",
    "# get x and y\n",
    "x_indic = dataset[[\"lat\",\"lon\",\"month\",\"sequence\"]]\n",
    "\n",
    "x = dataset[['fuel_load_cwdc', 'fuel_load_deadcrootc', 'fuel_wetness', 'fuel_temperature', 'climate_wind', 'climate_tbot', 'climate_rh2m', 'climate_rain', 'human_density', 'light_frequency',\"burned_area_mom\",\"burned_area_yoy\",\"burned_area_mom_conv\",\"burned_area_yoy_conv\",\"lat\",\"month\"]]\n",
    "y = dataset[\"burned_area\"]\n",
    "# convert to numpy\n",
    "x_indic = np.array(x_indic)\n",
    "x = np.array(x)\n",
    "y = np.array(y).reshape(-1, 1)\n",
    "print(x.shape, y.shape)"
   ]
  },
  {
   "cell_type": "markdown",
   "id": "4ff30c73836618d2",
   "metadata": {
    "collapsed": false
   },
   "source": [
    "### Normalization"
   ]
  },
  {
   "cell_type": "code",
   "execution_count": 6,
   "id": "ff8fad62be13cfa2",
   "metadata": {
    "collapsed": false,
    "ExecuteTime": {
     "end_time": "2024-02-22T13:18:07.505746100Z",
     "start_time": "2024-02-22T13:18:07.446431200Z"
    }
   },
   "outputs": [],
   "source": [
    "scaler_X = StandardScaler()\n",
    "scaler_y = StandardScaler()\n",
    "x_stand = scaler_X.fit_transform(x)\n",
    "y_stand = scaler_y.fit_transform(y)"
   ]
  },
  {
   "cell_type": "markdown",
   "id": "70f95c1e83f73ce2",
   "metadata": {
    "collapsed": false
   },
   "source": [
    "### Train Test Split"
   ]
  },
  {
   "cell_type": "code",
   "execution_count": 7,
   "id": "57168b8ae5cdd3ac",
   "metadata": {
    "collapsed": false,
    "ExecuteTime": {
     "end_time": "2024-02-22T13:18:07.506262500Z",
     "start_time": "2024-02-22T13:18:07.478440700Z"
    }
   },
   "outputs": [],
   "source": [
    "train_x = x_stand[0:int(split_ratio*len(x_stand)),:]\n",
    "train_y = y_stand[0:int(split_ratio*len(y_stand)),:]\n",
    "test_x = x_stand[int(split_ratio*len(x_stand)):x_stand.shape[0],:]\n",
    "test_y = y_stand[int(split_ratio*len(y_stand)):y_stand.shape[0],:]"
   ]
  },
  {
   "cell_type": "markdown",
   "id": "fcab81d01f63e911",
   "metadata": {
    "collapsed": false
   },
   "source": [
    "### Dataloader"
   ]
  },
  {
   "cell_type": "code",
   "execution_count": 8,
   "id": "91b997f164f9289e",
   "metadata": {
    "collapsed": false,
    "ExecuteTime": {
     "end_time": "2024-02-22T13:18:07.548902800Z",
     "start_time": "2024-02-22T13:18:07.492466300Z"
    }
   },
   "outputs": [],
   "source": [
    "class Dataset(torch.utils.data.Dataset):\n",
    "    def __init__(self, data_inputs, data_targets):\n",
    "        self.inputs = torch.tensor(data_inputs).float()\n",
    "        self.label = torch.tensor(data_targets).float()\n",
    "\n",
    "    def __getitem__(self, idx):\n",
    "        x = self.inputs[idx]\n",
    "        y = self.label[idx]\n",
    "        return x, y\n",
    "\n",
    "    def __len__(self):\n",
    "        return len(self.label)"
   ]
  },
  {
   "cell_type": "code",
   "execution_count": 9,
   "id": "b5770be060f1e4c5",
   "metadata": {
    "collapsed": false,
    "ExecuteTime": {
     "end_time": "2024-02-22T13:18:07.549902700Z",
     "start_time": "2024-02-22T13:18:07.509264600Z"
    }
   },
   "outputs": [],
   "source": [
    "trainset = Dataset(train_x, train_y)\n",
    "testset = Dataset(test_x, test_y)\n",
    "TrainDataLoader = Data.DataLoader(trainset, batch_size=batch_size, shuffle=True, drop_last=False)\n",
    "TestDataLoader = Data.DataLoader(testset, batch_size=batch_size, shuffle=False, drop_last=False)"
   ]
  },
  {
   "cell_type": "code",
   "execution_count": 10,
   "id": "b6ebc07cdf6f0968",
   "metadata": {
    "collapsed": false,
    "ExecuteTime": {
     "end_time": "2024-02-22T13:18:07.806104600Z",
     "start_time": "2024-02-22T13:18:07.523786500Z"
    }
   },
   "outputs": [
    {
     "name": "stdout",
     "output_type": "stream",
     "text": [
      "torch.Size([20000, 16]) torch.Size([20000, 1])\n"
     ]
    }
   ],
   "source": [
    "for i,(v,j) in enumerate(TrainDataLoader):\n",
    "    print(v.shape,j.shape)\n",
    "    break"
   ]
  },
  {
   "cell_type": "markdown",
   "id": "f285faa43020302d",
   "metadata": {
    "collapsed": false
   },
   "source": [
    "### Model Architecture"
   ]
  },
  {
   "cell_type": "code",
   "execution_count": 11,
   "id": "99ce536c920c2a15",
   "metadata": {
    "collapsed": false,
    "ExecuteTime": {
     "end_time": "2024-02-22T13:18:07.824435800Z",
     "start_time": "2024-02-22T13:18:07.791045600Z"
    }
   },
   "outputs": [],
   "source": [
    "# Define the neural network\n",
    "class network(nn.Module):\n",
    "    def __init__(self):\n",
    "        super(network, self).__init__()\n",
    "        self.layer1 = nn.Linear(train_x.shape[1], train_x.shape[1]*2)\n",
    "        self.layer2 = nn.Linear(train_x.shape[1]*2, 32)\n",
    "        self.layer3 = nn.Linear(32, 16)\n",
    "        self.layer4 = nn.Linear(16, 4)\n",
    "        self.layer5 = nn.Linear(4, 1)\n",
    "        self.activation = nn.Tanh()\n",
    "        self.dropout = nn.Dropout(0.15)\n",
    "\n",
    "    def forward(self, x):\n",
    "        x = self.layer1(x)\n",
    "        x = self.activation(x)\n",
    "        x = self.dropout(x)\n",
    "        x = self.layer2(x)\n",
    "        x = self.activation(x)\n",
    "        x = self.dropout(x)\n",
    "        x = self.layer3(x)\n",
    "        x = self.activation(x)\n",
    "        x = self.dropout(x)\n",
    "        x = self.layer4(x)\n",
    "        x = self.activation(x)\n",
    "        x = self.dropout(x)\n",
    "        x = self.layer5(x)\n",
    "\n",
    "        return x"
   ]
  },
  {
   "cell_type": "code",
   "execution_count": 12,
   "id": "e96b602626d71b08",
   "metadata": {
    "collapsed": false,
    "ExecuteTime": {
     "end_time": "2024-02-22T13:18:07.982851Z",
     "start_time": "2024-02-22T13:18:07.804075700Z"
    }
   },
   "outputs": [
    {
     "data": {
      "text/plain": "network(\n  (layer1): Linear(in_features=16, out_features=32, bias=True)\n  (layer2): Linear(in_features=32, out_features=32, bias=True)\n  (layer3): Linear(in_features=32, out_features=16, bias=True)\n  (layer4): Linear(in_features=16, out_features=4, bias=True)\n  (layer5): Linear(in_features=4, out_features=1, bias=True)\n  (activation): Tanh()\n  (dropout): Dropout(p=0.15, inplace=False)\n)"
     },
     "execution_count": 12,
     "metadata": {},
     "output_type": "execute_result"
    }
   ],
   "source": [
    "net = network().to(device)\n",
    "net"
   ]
  },
  {
   "cell_type": "markdown",
   "id": "49697685e15f6aa2",
   "metadata": {
    "collapsed": false
   },
   "source": [
    "### Load pre-trained model"
   ]
  },
  {
   "cell_type": "code",
   "execution_count": 13,
   "id": "79cde2ae45785f7d",
   "metadata": {
    "collapsed": false,
    "ExecuteTime": {
     "end_time": "2024-02-22T13:18:08.015825700Z",
     "start_time": "2024-02-22T13:18:07.974324300Z"
    }
   },
   "outputs": [
    {
     "data": {
      "text/plain": "<All keys matched successfully>"
     },
     "execution_count": 13,
     "metadata": {},
     "output_type": "execute_result"
    }
   ],
   "source": [
    "state_dict = torch.load(model_param_path)\n",
    "net.load_state_dict(state_dict)"
   ]
  },
  {
   "cell_type": "markdown",
   "id": "984f4fc54b72c15a",
   "metadata": {
    "collapsed": false
   },
   "source": [
    "### Generate model predictions"
   ]
  },
  {
   "cell_type": "code",
   "execution_count": 14,
   "id": "6bbc734a34d7087f",
   "metadata": {
    "collapsed": false,
    "ExecuteTime": {
     "end_time": "2024-02-22T13:19:30.511746100Z",
     "start_time": "2024-02-22T13:18:07.994872400Z"
    }
   },
   "outputs": [
    {
     "name": "stderr",
     "output_type": "stream",
     "text": [
      "100%|██████████| 96271/96271 [01:22<00:00, 1167.11it/s]\n"
     ]
    }
   ],
   "source": [
    "# prepare data\n",
    "val_x = torch.tensor(x_stand).float()\n",
    "val_y = torch.tensor(y_stand).float()\n",
    "lat_indicator = x_indic[:,0]\n",
    "lon_indicator = x_indic[:,1]\n",
    "month_indicator = x_indic[:,2]\n",
    "year_indicator = x_indic[:,3]\n",
    "\n",
    "# create lists\n",
    "month_list = []\n",
    "y_true_list = []\n",
    "y_pred_list = []\n",
    "region_list = []\n",
    "year_list = []\n",
    "\n",
    "# validation mode\n",
    "net.eval()\n",
    "for idx in tqdm(range(val_x.shape[0])):\n",
    "    month_list.append(month_indicator[idx])\n",
    "    region_list.append([lat_indicator[idx],lon_indicator[idx]])\n",
    "    year_list.append(year_indicator[idx])\n",
    "    x_input = val_x[idx,:].to(device)\n",
    "    y_input = val_y[idx,-1].to(device).detach().cpu().numpy().squeeze()\n",
    "    y_true_list.append(y_input)\n",
    "    y_pred = net(x_input)\n",
    "    y_pred = y_pred.detach().cpu().numpy().squeeze()\n",
    "    y_pred_list.append(y_pred)"
   ]
  },
  {
   "cell_type": "markdown",
   "id": "84c242869f267e71",
   "metadata": {
    "collapsed": false
   },
   "source": [
    "## B. Performance Evaluation"
   ]
  },
  {
   "cell_type": "markdown",
   "id": "2d0414c61dda1678",
   "metadata": {
    "collapsed": false
   },
   "source": [
    "### Evaluation Panel Preparation"
   ]
  },
  {
   "cell_type": "code",
   "execution_count": 15,
   "id": "8f9c48904573c5d1",
   "metadata": {
    "collapsed": false,
    "ExecuteTime": {
     "end_time": "2024-02-22T13:19:30.565739800Z",
     "start_time": "2024-02-22T13:19:30.493193200Z"
    }
   },
   "outputs": [],
   "source": [
    "# Import JSON file\n",
    "with open(region_dict_path,'r', encoding='UTF-8') as f:\n",
    "    region_dict = json.load(f)"
   ]
  },
  {
   "cell_type": "code",
   "execution_count": 16,
   "id": "4e4ac26d779e1e8b",
   "metadata": {
    "collapsed": false,
    "ExecuteTime": {
     "end_time": "2024-02-22T13:19:30.566758300Z",
     "start_time": "2024-02-22T13:19:30.541374800Z"
    }
   },
   "outputs": [],
   "source": [
    "# Lambda Function to substitute Lat and Lon with Region names\n",
    "def region_labeler(x):\n",
    "    for region_name in region_dict.keys():\n",
    "        if x in region_dict[region_name]:\n",
    "            return region_name\n",
    "\n",
    "# month_dict_convertor\n",
    "month_dict = {1:\"Jan\",2:\"Feb\",3:\"Mar\",4:\"Apr\",5:\"May\",6:\"Jun\",7:\"Jul\",8:\"Aug\",9:\"Sep\",10:\"Oct\",11:\"Nov\",12:\"Dec\"}\n",
    "# Lambda Function to substitute years seq to years \n",
    "year_dict_temp = list(set(year_list))\n",
    "year_dict= {}\n",
    "sep_lst = []\n",
    "start_year = 2001\n",
    "for i,v in enumerate(year_dict_temp):\n",
    "    if (i+1) % 12 != 0:\n",
    "        sep_lst.append(v)\n",
    "    else:\n",
    "        sep_lst.append(v)\n",
    "        year_dict[start_year] = sep_lst\n",
    "        sep_lst = []\n",
    "        start_year += 1\n",
    "def year_labeler(x):\n",
    "    for yrs in year_dict.keys():\n",
    "        if x in year_dict[yrs]:\n",
    "            return yrs"
   ]
  },
  {
   "cell_type": "code",
   "execution_count": 17,
   "id": "866bf0e2bf0332a9",
   "metadata": {
    "collapsed": false,
    "ExecuteTime": {
     "end_time": "2024-02-22T13:19:36.198888300Z",
     "start_time": "2024-02-22T13:19:30.558735700Z"
    }
   },
   "outputs": [],
   "source": [
    "# Reverse Standization\n",
    "true_log_value = scaler_y.inverse_transform(np.array(y_true_list).reshape(-1,1))\n",
    "pred_log_value = scaler_y.inverse_transform(np.array(y_pred_list).reshape(-1,1))\n",
    "\n",
    "evaluator = pd.DataFrame(columns=[\"y_true\",\"y_pred\",\"month\",\"region\",\"year\"])\n",
    "# model predictions\n",
    "evaluator[\"y_true\"] = y_true_list\n",
    "evaluator[\"y_pred\"] = y_pred_list\n",
    "# inverse standardization\n",
    "evaluator[\"y_true_transform_log\"] = true_log_value\n",
    "evaluator[\"y_pred_transform_log\"] = pred_log_value\n",
    "\n",
    "evaluator[\"y_true_transform_origin\"] = np.exp(evaluator[\"y_true_transform_log\"])\n",
    "evaluator[\"y_pred_transform_origin\"] = np.exp(evaluator[\"y_pred_transform_log\"])\n",
    "\n",
    "# month labeling\n",
    "evaluator[\"month\"] = month_list\n",
    "evaluator[\"month_label\"] = evaluator[\"month\"].apply(lambda x: month_dict[x])\n",
    "# year labeling\n",
    "evaluator[\"year\"] = year_list\n",
    "evaluator[\"year_label\"] = evaluator[\"year\"].apply(lambda x: year_labeler(x))\n",
    "# region labeling\n",
    "evaluator[\"region\"] = region_list\n",
    "evaluator[\"region_label\"] = evaluator[\"region\"].apply(lambda x: region_labeler(x))\n",
    "# drop na values\n",
    "evaluator.dropna(inplace=True)"
   ]
  },
  {
   "cell_type": "markdown",
   "id": "394f6c3c046acec4",
   "metadata": {
    "collapsed": false
   },
   "source": [
    "### 1. Accuracy, Correlation Scores"
   ]
  },
  {
   "cell_type": "code",
   "execution_count": 18,
   "id": "3e5171ed1e12bf21",
   "metadata": {
    "collapsed": false,
    "ExecuteTime": {
     "end_time": "2024-02-22T13:19:36.289565600Z",
     "start_time": "2024-02-22T13:19:36.200388200Z"
    }
   },
   "outputs": [
    {
     "name": "stdout",
     "output_type": "stream",
     "text": [
      "-> Accuracy Score (R-sqaured):  0.777916531379282\n",
      "-> Pearson Correlation Score (Rho):  0.8832095152035105\n"
     ]
    }
   ],
   "source": [
    "print(\"-> Accuracy Score (R-sqaured): \", metrics.r2_score(y_true_list,y_pred_list))\n",
    "print(\"-> Pearson Correlation Score (Rho): \", np.corrcoef(y_true_list,y_pred_list)[0][1])"
   ]
  },
  {
   "cell_type": "markdown",
   "id": "6651382e6099296b",
   "metadata": {
    "collapsed": false
   },
   "source": [
    "### 2. Evaluation by Years"
   ]
  },
  {
   "cell_type": "code",
   "execution_count": 19,
   "id": "91013d7f1cf0cbc0",
   "metadata": {
    "collapsed": false,
    "ExecuteTime": {
     "end_time": "2024-02-22T13:19:36.416448300Z",
     "start_time": "2024-02-22T13:19:36.262010800Z"
    }
   },
   "outputs": [],
   "source": [
    "evaluation_year = evaluator.copy()\n",
    "evaluation_year = evaluation_year[['y_true', 'y_pred','y_true_transform_log',\n",
    "                                   'y_pred_transform_log', 'y_true_transform_origin',\n",
    "                                   'y_pred_transform_origin', 'year_label']]\n",
    "group_data = pd.DataFrame(evaluation_year.groupby(by=\"year_label\").sum())"
   ]
  },
  {
   "cell_type": "code",
   "execution_count": 20,
   "id": "8f49a792c90b1a9",
   "metadata": {
    "collapsed": false,
    "ExecuteTime": {
     "end_time": "2024-02-22T13:19:36.603391500Z",
     "start_time": "2024-02-22T13:19:36.418449400Z"
    }
   },
   "outputs": [],
   "source": [
    "plt.plot(group_data[\"y_true_transform_log\"], label = \"Ln(True Burned Area)\", color = \"darkred\")\n",
    "plt.plot(group_data[\"y_pred_transform_log\"], label = \"Ln(Predicted Burned Area)\")\n",
    "plt.fill_between(group_data.index, group_data[\"y_true_transform_log\"].tolist(), group_data[\"y_pred_transform_log\"].tolist(),\n",
    "                 facecolor = \"dimgray\",alpha=.5, linewidth=0)\n",
    "plt.legend(loc = \"best\",fontsize = 10)\n",
    "plt.xlabel(\"Year\")\n",
    "plt.ylabel(\"Burned Area\")\n",
    "plt.grid(False)\n",
    "plt.savefig(\"Evaluation_Burned Area_By_Year.svg\",bbox_inches=\"tight\")\n",
    "plt.close()"
   ]
  },
  {
   "cell_type": "markdown",
   "id": "d2d9d51602f67521",
   "metadata": {
    "collapsed": false
   },
   "source": [
    "### 3. Evaluation by Months"
   ]
  },
  {
   "cell_type": "code",
   "execution_count": 21,
   "id": "5cc5100417db5b88",
   "metadata": {
    "collapsed": false,
    "ExecuteTime": {
     "end_time": "2024-02-22T13:19:36.867779Z",
     "start_time": "2024-02-22T13:19:36.604891500Z"
    }
   },
   "outputs": [],
   "source": [
    "evaluation_month = evaluator.copy()\n",
    "del evaluation_month[\"region\"]\n",
    "group_data = pd.DataFrame(evaluation_month.groupby(by=\"month\").sum()).sort_values(by=\"month\")\n",
    "group_data[\"month_label\"] = group_data.index\n",
    "group_data[\"month_label\"] = group_data[\"month_label\"].apply(lambda x: month_dict[x])\n",
    "group_data.set_index(\"month_label\",inplace=True,drop=True)"
   ]
  },
  {
   "cell_type": "code",
   "execution_count": 22,
   "id": "a0ca40229cfb38c",
   "metadata": {
    "collapsed": false,
    "ExecuteTime": {
     "end_time": "2024-02-22T13:19:37.070251700Z",
     "start_time": "2024-02-22T13:19:36.868279200Z"
    }
   },
   "outputs": [],
   "source": [
    "plt.plot(group_data[\"y_true_transform_log\"], label = \"Ln(True Burned Area)\", color = \"darkred\")\n",
    "plt.plot(group_data[\"y_pred_transform_log\"], label = \"Ln(Predicted Burned Area)\")\n",
    "plt.fill_between(group_data.index, group_data[\"y_true_transform_log\"].tolist(), group_data[\"y_pred_transform_log\"].tolist(),\n",
    "                 facecolor = \"dimgray\", alpha=.5, linewidth=0)\n",
    "plt.title(\"Performance Evaluation by Month (Log Transformed)\",fontsize = 11)\n",
    "plt.grid(linestyle = '--', linewidth = 0.5, axis='x')\n",
    "plt.xlabel(\"Month\")\n",
    "plt.ylabel(\"Burned Area\")\n",
    "plt.legend(loc = \"best\",fontsize = 10)\n",
    "plt.grid(False)\n",
    "plt.savefig(\"Evaluation_Burned Area_By_Month.\"+save_format,bbox_inches=\"tight\")\n",
    "plt.close()"
   ]
  },
  {
   "cell_type": "markdown",
   "id": "8f6a9b022bf8f502",
   "metadata": {
    "collapsed": false
   },
   "source": [
    "### 4. Evaluation By Region & Year"
   ]
  },
  {
   "cell_type": "code",
   "execution_count": 23,
   "id": "58dde6d43895d492",
   "metadata": {
    "collapsed": false,
    "ExecuteTime": {
     "end_time": "2024-02-22T13:19:37.272746100Z",
     "start_time": "2024-02-22T13:19:37.070751800Z"
    }
   },
   "outputs": [],
   "source": [
    "evaluation_region = evaluator.copy()\n",
    "group_data = pd.DataFrame(evaluation_region.groupby(by=[\"year\",\"region_label\"]).sum())\n",
    "group_data[\"region\"] = group_data.index\n",
    "group_data[\"region\"] = group_data[\"region\"].apply(lambda x: x[1])\n",
    "region_num_mapper = {}\n",
    "for i,v in enumerate(set(group_data[\"region\"].tolist())):\n",
    "    region_num_mapper[v] = i\n",
    "group_data[\"region_label\"] = group_data[\"region\"].apply(lambda x: region_num_mapper[x])"
   ]
  },
  {
   "cell_type": "code",
   "execution_count": 24,
   "id": "60df894472b09980",
   "metadata": {
    "collapsed": false,
    "ExecuteTime": {
     "end_time": "2024-02-22T13:19:37.598011700Z",
     "start_time": "2024-02-22T13:19:37.272746100Z"
    }
   },
   "outputs": [],
   "source": [
    "x_line = np.linspace(group_data[\"y_pred_transform_log\"].min()-12, group_data[\"y_pred_transform_log\"].max(), 100)\n",
    "y_line = x_line\n",
    "plt.plot(x_line, y_line, 'r--',c=\"k\")\n",
    "# Iterations to draw scatter points\n",
    "region_list = region_num_mapper.keys()\n",
    "for i, reg in enumerate(region_list):\n",
    "    temp_df = group_data.loc[group_data[\"region\"] == reg]\n",
    "    plt.scatter(temp_df[\"y_true_transform_log\"],temp_df[\"y_pred_transform_log\"], marker=\"+\",s=450)\n",
    "plt.xlim(np.min(x_line), np.max(x_line))\n",
    "plt.ylim(np.min(y_line), np.max(y_line))\n",
    "plt.xlabel(\"True Ln(Burned Area)\")\n",
    "plt.ylabel(\"CNN-Fire Ln(Burned Area)\")\n",
    "plt.legend(labels = group_data[\"region\"], bbox_to_anchor=(1.05, 0), loc = 3, borderaxespad = 0)\n",
    "plt.grid(False)\n",
    "plt.savefig(\"Evaluation_Burned Area_Compare.\"+save_format,bbox_inches=\"tight\")\n",
    "plt.close()"
   ]
  },
  {
   "cell_type": "markdown",
   "id": "f8a3d537e234c798",
   "metadata": {
    "collapsed": false
   },
   "source": [
    "### 5. Evaluation by Region"
   ]
  },
  {
   "cell_type": "code",
   "execution_count": 25,
   "id": "af6170e27f5e8aec",
   "metadata": {
    "collapsed": false,
    "ExecuteTime": {
     "end_time": "2024-02-22T13:19:39.449127800Z",
     "start_time": "2024-02-22T13:19:37.600011900Z"
    }
   },
   "outputs": [],
   "source": [
    "evaluation_region = evaluator.copy()\n",
    "group_data = pd.DataFrame(evaluation_region.groupby(by=[\"region_label\"]).sum())\n",
    "group_data[\"region\"] = group_data.index\n",
    "group_data[\"region\"] = group_data[\"region\"].apply(lambda x: x[1])\n",
    "region_num_mapper = {}\n",
    "for i,v in enumerate(set(group_data[\"region\"].tolist())):\n",
    "    region_num_mapper[v] = i\n",
    "group_data[\"region_label\"] = group_data[\"region\"].apply(lambda x: region_num_mapper[x])"
   ]
  },
  {
   "cell_type": "code",
   "execution_count": 26,
   "id": "25861c1fefe3276b",
   "metadata": {
    "collapsed": false,
    "ExecuteTime": {
     "end_time": "2024-02-22T13:19:39.729493100Z",
     "start_time": "2024-02-22T13:19:39.449627600Z"
    }
   },
   "outputs": [],
   "source": [
    "labels = group_data.index.tolist()\n",
    "true_area = group_data[\"y_true_transform_log\"].tolist()\n",
    "pred_area = group_data[\"y_pred_transform_log\"].tolist()\n",
    "x = np.arange(len(group_data.index.tolist()))  # the label locations\n",
    "width = 0.35  # the width of the bars\n",
    "fig, ax = plt.subplots()\n",
    "rects1 = ax.bar(x - width/2, true_area, width, label=\"Ln(True Burned Area)\", color = \"steelblue\")\n",
    "rects2 = ax.bar(x + width/2, pred_area, width, label=\"Ln(Predicted Burned Area)\", color = \"dimgrey\")\n",
    "ax.set_ylabel('Burned Area')\n",
    "ax.set_xlabel('Region')\n",
    "ax.set_xticks(x)\n",
    "ax.set_xticklabels(labels, fontsize = 8)\n",
    "plt.grid(False)\n",
    "ax.legend()\n",
    "plt.savefig(\"Evaluation_Burned Area_By_Region.\"+save_format,bbox_inches=\"tight\")\n",
    "plt.close()"
   ]
  },
  {
   "cell_type": "markdown",
   "source": [
    "### 6. Multi - comparison"
   ],
   "metadata": {
    "collapsed": false
   },
   "id": "37c1e7f52e6e3572"
  },
  {
   "cell_type": "code",
   "outputs": [],
   "source": [
    "dnn_df = pd.read_parquet(\"../trained_model/Train-Result-\"+ str(trained_model_folder_no)+ \"/baseline_evaluation_dnn.parquet\")\n",
    "dt_df = pd.read_parquet(\"../trained_model/Train-Result-\"+ str(trained_model_folder_no)+ \"/baseline_evaluation_dt.parquet\")\n",
    "kn_df = pd.read_parquet(\"../trained_model/Train-Result-\"+ str(trained_model_folder_no)+ \"/baseline_evaluation_kn.parquet\")\n",
    "lasso_df = pd.read_parquet(\"../trained_model/Train-Result-\"+ str(trained_model_folder_no)+ \"/baseline_evaluation_lasso.parquet\")\n",
    "lr_df = pd.read_parquet(\"../trained_model/Train-Result-\"+ str(trained_model_folder_no)+ \"/baseline_evaluation_lr.parquet\")\n",
    "ridge_df = pd.read_parquet(\"../trained_model/Train-Result-\"+ str(trained_model_folder_no)+ \"/baseline_evaluation_ridge.parquet\")\n",
    "dnn_df[\"month_label\"] = dnn_df[\"month\"].apply(lambda x: month_dict[x])\n",
    "dt_df[\"month_label\"] = dt_df[\"month\"].apply(lambda x: month_dict[x])\n",
    "kn_df[\"month_label\"] = kn_df[\"month\"].apply(lambda x: month_dict[x])\n",
    "lasso_df[\"month_label\"] = lasso_df[\"month\"].apply(lambda x: month_dict[x])\n",
    "lr_df[\"month_label\"] = lr_df[\"month\"].apply(lambda x: month_dict[x])\n",
    "ridge_df[\"month_label\"] = ridge_df[\"month\"].apply(lambda x: month_dict[x])"
   ],
   "metadata": {
    "collapsed": false,
    "ExecuteTime": {
     "end_time": "2024-02-22T13:28:57.803967900Z",
     "start_time": "2024-02-22T13:28:56.996904800Z"
    }
   },
   "id": "ee60a787828fe75a",
   "execution_count": 28
  },
  {
   "cell_type": "code",
   "outputs": [],
   "source": [
    "order_dict = {\"Jan\":1,\"Feb\":2,\"Mar\":3,\"Apr\":4,\"May\":5,\"Jun\":6,\"Jul\":7,\"Aug\":8,\"Sep\":9,\"Oct\":10,\"Nov\":11,\"Dec\":12}"
   ],
   "metadata": {
    "collapsed": false,
    "ExecuteTime": {
     "end_time": "2024-02-22T13:28:57.804468700Z",
     "start_time": "2024-02-22T13:28:57.791414600Z"
    }
   },
   "id": "16cfa4b15fa25c36",
   "execution_count": 29
  },
  {
   "cell_type": "code",
   "outputs": [],
   "source": [
    "dnn_df = dnn_df.groupby(\"month_label\").agg({\"y_pred_transform_log\":\"sum\"})\n",
    "dnn_df[\"month\"] = dnn_df.index\n",
    "dnn_df[\"month_order\"] = dnn_df[\"month\"].apply(lambda x: order_dict[x])\n",
    "dnn_df.sort_values(by=\"month_order\",inplace=True)\n",
    "\n",
    "dt_df = dt_df.groupby(\"month_label\").agg({\"y_pred_transform_log\":\"sum\"})\n",
    "dt_df[\"month\"] = dt_df.index\n",
    "dt_df[\"month_order\"] = dt_df[\"month\"].apply(lambda x: order_dict[x])\n",
    "dt_df.sort_values(by=\"month_order\",inplace=True)\n",
    "\n",
    "kn_df = kn_df.groupby(\"month_label\").agg({\"y_pred_transform_log\":\"sum\"})\n",
    "kn_df[\"month\"] = kn_df.index\n",
    "kn_df[\"month_order\"] = kn_df[\"month\"].apply(lambda x: order_dict[x])\n",
    "kn_df.sort_values(by=\"month_order\",inplace=True)\n",
    "\n",
    "lasso_df = lasso_df.groupby(\"month_label\").agg({\"y_pred_transform_log\":\"sum\"})\n",
    "lasso_df[\"month\"] = lasso_df.index\n",
    "lasso_df[\"month_order\"] = lasso_df[\"month\"].apply(lambda x: order_dict[x])\n",
    "lasso_df.sort_values(by=\"month_order\",inplace=True)\n",
    "\n",
    "lr_df = lr_df.groupby(\"month_label\").agg({\"y_pred_transform_log\":\"sum\"})\n",
    "lr_df[\"month\"] = lr_df.index\n",
    "lr_df[\"month_order\"] = lr_df[\"month\"].apply(lambda x: order_dict[x])\n",
    "lr_df.sort_values(by=\"month_order\",inplace=True)\n",
    "\n",
    "ridge_df = ridge_df.groupby(\"month_label\").agg({\"y_pred_transform_log\":\"sum\"})\n",
    "ridge_df[\"month\"] = ridge_df.index\n",
    "ridge_df[\"month_order\"] = ridge_df[\"month\"].apply(lambda x: order_dict[x])\n",
    "ridge_df.sort_values(by=\"month_order\",inplace=True)\n",
    "\n",
    "evaluation_month = evaluator.copy()\n",
    "del evaluation_month[\"region\"]\n",
    "cnn_df = pd.DataFrame(evaluation_month.groupby(by=\"month\").sum()).sort_values(by=\"month\")\n",
    "cnn_df[\"month_label\"] = cnn_df.index\n",
    "cnn_df[\"month_label\"] = cnn_df[\"month_label\"].apply(lambda x: month_dict[x])\n",
    "cnn_df.set_index(\"month_label\",inplace=True,drop=True)\n",
    "cnn_df[\"month\"] = cnn_df.index\n",
    "cnn_df[\"month_order\"] = cnn_df[\"month\"].apply(lambda x: order_dict[x])\n",
    "cnn_df.sort_values(by=\"month_order\",inplace=True)"
   ],
   "metadata": {
    "collapsed": false,
    "ExecuteTime": {
     "end_time": "2024-02-22T13:28:58.099359100Z",
     "start_time": "2024-02-22T13:28:57.810488900Z"
    }
   },
   "id": "7aec0aafb769d455",
   "execution_count": 30
  },
  {
   "cell_type": "code",
   "outputs": [
    {
     "data": {
      "text/plain": "                 CNN            DNN  Decision Tree  K-Nearst Neighbour  \\\nmonth                                                                    \nJan     57353.687500   56107.152344   56674.975101        57024.217368   \nFeb     61983.910156   60469.253906   61824.603005        61882.528961   \nMar     66666.734375   64935.128906   65976.370875        66286.443475   \nApr     83709.726562   80392.156250   83465.723914        85135.438493   \nMay    117086.656250  112716.765625  119403.455403       121513.141880   \nJun    142666.296875  139524.281250  142083.302348       145749.831486   \nJul    158057.203125  155658.453125  156601.565484       158235.213219   \nAug    155047.843750  152942.937500  152119.003980       155729.582550   \nSep    118442.031250  117052.093750  114481.142481       117592.112016   \nOct     75782.976562   75066.757812   73603.056049        74878.640942   \nNov     54075.820312   53679.574219   53995.274412        54066.218371   \nDec     52020.781250   51650.812500   52411.391234        52548.120226   \n\n       Lasso Regression  Linear Regression  Ridge Regression    Observation  \\\nmonth                                                                         \nJan        56404.678937       56757.560422      56757.407344   56480.835938   \nFeb        61051.345306       61404.092557      61403.993042   61746.945312   \nMar        65540.165779       65076.599050      65076.860723   65834.835938   \nApr        82948.819176       80124.284941      80124.997530   85079.421875   \nMay       118345.209865      112951.872609     112953.392980  121706.242188   \nJun       143766.369728      138137.842198     138139.626002  145657.953125   \nJul       160932.686404      155749.696733     155751.230000  158230.265625   \nAug       161333.531349      155040.045253     155041.367051  153158.968750   \nSep       125177.207219      119346.099104     119346.450460  114596.531250   \nOct        80117.006821       76511.789185      76511.421531   73385.156250   \nNov        56767.066633       54391.691323      54391.188684   53619.605469   \nDec        53811.461242       51889.462648      51889.047464   52228.242188   \n\n                 min            max  \nmonth                                \nJan     55107.152344   58353.687500  \nFeb     59469.253906   62983.910156  \nMar     63935.128906   67666.734375  \nApr     79124.284941   86135.438493  \nMay    111716.765625  122706.242188  \nJun    137137.842198  146749.831486  \nJul    154658.453125  161932.686404  \nAug    151119.003980  162333.531349  \nSep    113481.142481  126177.207219  \nOct     72385.156250   81117.006821  \nNov     52619.605469   57767.066633  \nDec     50650.812500   54811.461242  ",
      "text/html": "<div>\n<style scoped>\n    .dataframe tbody tr th:only-of-type {\n        vertical-align: middle;\n    }\n\n    .dataframe tbody tr th {\n        vertical-align: top;\n    }\n\n    .dataframe thead th {\n        text-align: right;\n    }\n</style>\n<table border=\"1\" class=\"dataframe\">\n  <thead>\n    <tr style=\"text-align: right;\">\n      <th></th>\n      <th>CNN</th>\n      <th>DNN</th>\n      <th>Decision Tree</th>\n      <th>K-Nearst Neighbour</th>\n      <th>Lasso Regression</th>\n      <th>Linear Regression</th>\n      <th>Ridge Regression</th>\n      <th>Observation</th>\n      <th>min</th>\n      <th>max</th>\n    </tr>\n    <tr>\n      <th>month</th>\n      <th></th>\n      <th></th>\n      <th></th>\n      <th></th>\n      <th></th>\n      <th></th>\n      <th></th>\n      <th></th>\n      <th></th>\n      <th></th>\n    </tr>\n  </thead>\n  <tbody>\n    <tr>\n      <th>Jan</th>\n      <td>57353.687500</td>\n      <td>56107.152344</td>\n      <td>56674.975101</td>\n      <td>57024.217368</td>\n      <td>56404.678937</td>\n      <td>56757.560422</td>\n      <td>56757.407344</td>\n      <td>56480.835938</td>\n      <td>55107.152344</td>\n      <td>58353.687500</td>\n    </tr>\n    <tr>\n      <th>Feb</th>\n      <td>61983.910156</td>\n      <td>60469.253906</td>\n      <td>61824.603005</td>\n      <td>61882.528961</td>\n      <td>61051.345306</td>\n      <td>61404.092557</td>\n      <td>61403.993042</td>\n      <td>61746.945312</td>\n      <td>59469.253906</td>\n      <td>62983.910156</td>\n    </tr>\n    <tr>\n      <th>Mar</th>\n      <td>66666.734375</td>\n      <td>64935.128906</td>\n      <td>65976.370875</td>\n      <td>66286.443475</td>\n      <td>65540.165779</td>\n      <td>65076.599050</td>\n      <td>65076.860723</td>\n      <td>65834.835938</td>\n      <td>63935.128906</td>\n      <td>67666.734375</td>\n    </tr>\n    <tr>\n      <th>Apr</th>\n      <td>83709.726562</td>\n      <td>80392.156250</td>\n      <td>83465.723914</td>\n      <td>85135.438493</td>\n      <td>82948.819176</td>\n      <td>80124.284941</td>\n      <td>80124.997530</td>\n      <td>85079.421875</td>\n      <td>79124.284941</td>\n      <td>86135.438493</td>\n    </tr>\n    <tr>\n      <th>May</th>\n      <td>117086.656250</td>\n      <td>112716.765625</td>\n      <td>119403.455403</td>\n      <td>121513.141880</td>\n      <td>118345.209865</td>\n      <td>112951.872609</td>\n      <td>112953.392980</td>\n      <td>121706.242188</td>\n      <td>111716.765625</td>\n      <td>122706.242188</td>\n    </tr>\n    <tr>\n      <th>Jun</th>\n      <td>142666.296875</td>\n      <td>139524.281250</td>\n      <td>142083.302348</td>\n      <td>145749.831486</td>\n      <td>143766.369728</td>\n      <td>138137.842198</td>\n      <td>138139.626002</td>\n      <td>145657.953125</td>\n      <td>137137.842198</td>\n      <td>146749.831486</td>\n    </tr>\n    <tr>\n      <th>Jul</th>\n      <td>158057.203125</td>\n      <td>155658.453125</td>\n      <td>156601.565484</td>\n      <td>158235.213219</td>\n      <td>160932.686404</td>\n      <td>155749.696733</td>\n      <td>155751.230000</td>\n      <td>158230.265625</td>\n      <td>154658.453125</td>\n      <td>161932.686404</td>\n    </tr>\n    <tr>\n      <th>Aug</th>\n      <td>155047.843750</td>\n      <td>152942.937500</td>\n      <td>152119.003980</td>\n      <td>155729.582550</td>\n      <td>161333.531349</td>\n      <td>155040.045253</td>\n      <td>155041.367051</td>\n      <td>153158.968750</td>\n      <td>151119.003980</td>\n      <td>162333.531349</td>\n    </tr>\n    <tr>\n      <th>Sep</th>\n      <td>118442.031250</td>\n      <td>117052.093750</td>\n      <td>114481.142481</td>\n      <td>117592.112016</td>\n      <td>125177.207219</td>\n      <td>119346.099104</td>\n      <td>119346.450460</td>\n      <td>114596.531250</td>\n      <td>113481.142481</td>\n      <td>126177.207219</td>\n    </tr>\n    <tr>\n      <th>Oct</th>\n      <td>75782.976562</td>\n      <td>75066.757812</td>\n      <td>73603.056049</td>\n      <td>74878.640942</td>\n      <td>80117.006821</td>\n      <td>76511.789185</td>\n      <td>76511.421531</td>\n      <td>73385.156250</td>\n      <td>72385.156250</td>\n      <td>81117.006821</td>\n    </tr>\n    <tr>\n      <th>Nov</th>\n      <td>54075.820312</td>\n      <td>53679.574219</td>\n      <td>53995.274412</td>\n      <td>54066.218371</td>\n      <td>56767.066633</td>\n      <td>54391.691323</td>\n      <td>54391.188684</td>\n      <td>53619.605469</td>\n      <td>52619.605469</td>\n      <td>57767.066633</td>\n    </tr>\n    <tr>\n      <th>Dec</th>\n      <td>52020.781250</td>\n      <td>51650.812500</td>\n      <td>52411.391234</td>\n      <td>52548.120226</td>\n      <td>53811.461242</td>\n      <td>51889.462648</td>\n      <td>51889.047464</td>\n      <td>52228.242188</td>\n      <td>50650.812500</td>\n      <td>54811.461242</td>\n    </tr>\n  </tbody>\n</table>\n</div>"
     },
     "execution_count": 31,
     "metadata": {},
     "output_type": "execute_result"
    }
   ],
   "source": [
    "consolidated_df = pd.DataFrame(columns = [\"month\",\"CNN\",\"DNN\",\"Decision Tree\",\"K-Nearst Neighbour\",\"Lasso Regression\",\"Linear Regression\",\"Ridge Regression\"])\n",
    "consolidated_df[\"month\"] = ridge_df[\"month\"].tolist()\n",
    "consolidated_df[\"CNN\"] = cnn_df[\"y_pred_transform_log\"].tolist()\n",
    "consolidated_df[\"DNN\"] = dnn_df[\"y_pred_transform_log\"].tolist()\n",
    "consolidated_df[\"Decision Tree\"] = dt_df[\"y_pred_transform_log\"].tolist()\n",
    "consolidated_df[\"K-Nearst Neighbour\"] = kn_df[\"y_pred_transform_log\"].tolist()\n",
    "consolidated_df[\"Lasso Regression\"] = lasso_df[\"y_pred_transform_log\"].tolist()\n",
    "consolidated_df[\"Linear Regression\"] = lr_df[\"y_pred_transform_log\"].tolist()\n",
    "consolidated_df[\"Ridge Regression\"] = ridge_df[\"y_pred_transform_log\"].tolist()\n",
    "consolidated_df[\"Observation\"] = cnn_df[\"y_true_transform_log\"].tolist()\n",
    "consolidated_df.set_index(\"month\",drop=True,inplace=True)\n",
    "consolidated_df[\"min\"] = consolidated_df.min(axis = 1) - 1000\n",
    "consolidated_df[\"max\"] = consolidated_df.max(axis = 1) + 1000\n",
    "consolidated_df"
   ],
   "metadata": {
    "collapsed": false,
    "ExecuteTime": {
     "end_time": "2024-02-22T13:28:58.159009800Z",
     "start_time": "2024-02-22T13:28:58.102359700Z"
    }
   },
   "id": "5d228ffc14c78e57",
   "execution_count": 31
  },
  {
   "cell_type": "code",
   "outputs": [],
   "source": [
    "plt.plot(consolidated_df[\"Observation\"], label = \"Observation\")\n",
    "plt.scatter(x = consolidated_df.index, y = consolidated_df[\"DNN\"], marker = \".\", s = 100, label = \"NN-Fire\", color = \"k\")\n",
    "plt.scatter(x = consolidated_df.index, y = consolidated_df[\"CNN\"], marker = \".\", s = 100, label = \"CNN-Fire\", color = \"cadetblue\")\n",
    "plt.scatter(x = consolidated_df.index, y = consolidated_df[\"Decision Tree\"], marker = \".\", s = 100, label = \"Decision Tree-Fire\")\n",
    "plt.scatter(x = consolidated_df.index, y = consolidated_df[\"K-Nearst Neighbour\"], marker = \".\", s = 100, label = \"KNN-Fire\")\n",
    "plt.scatter(x = consolidated_df.index, y = consolidated_df[\"Lasso Regression\"], marker = \".\", s = 100, label = \"Lasso Regression-Fire\")\n",
    "plt.scatter(x = consolidated_df.index, y = consolidated_df[\"Linear Regression\"], marker = \".\", s = 100, label = \"Linear Regression-Fire\")\n",
    "plt.scatter(x = consolidated_df.index, y = consolidated_df[\"Ridge Regression\"], marker = \".\", s = 100, label = \"Ridge Regression-Fire\")\n",
    "\n",
    "plt.fill_between(consolidated_df.index, consolidated_df[\"min\"], consolidated_df[\"max\"], facecolor = \"darkgray\",alpha=.5, linewidth=0)\n",
    "plt.legend(bbox_to_anchor=(1.05, 0.28), loc = 3, borderaxespad = 0)\n",
    "plt.xlabel(\"Month\")\n",
    "plt.ylabel(\"Burned Area\")\n",
    "plt.grid(False)\n",
    "plt.savefig(\"Evaluation_Burned Area_Baseline_Compare.\"+save_format,bbox_inches=\"tight\")\n",
    "plt.close()"
   ],
   "metadata": {
    "collapsed": false,
    "ExecuteTime": {
     "end_time": "2024-02-22T13:28:58.482343700Z",
     "start_time": "2024-02-22T13:28:58.131431500Z"
    }
   },
   "id": "88810ec13577031d",
   "execution_count": 32
  },
  {
   "cell_type": "code",
   "outputs": [],
   "source": [],
   "metadata": {
    "collapsed": false,
    "ExecuteTime": {
     "end_time": "2024-02-22T13:28:58.483343800Z",
     "start_time": "2024-02-22T13:28:58.442638900Z"
    }
   },
   "id": "f4e4f2be3b5e9f73",
   "execution_count": 32
  }
 ],
 "metadata": {
  "kernelspec": {
   "display_name": "Python 3 (ipykernel)",
   "language": "python",
   "name": "python3"
  },
  "language_info": {
   "codemirror_mode": {
    "name": "ipython",
    "version": 3
   },
   "file_extension": ".py",
   "mimetype": "text/x-python",
   "name": "python",
   "nbconvert_exporter": "python",
   "pygments_lexer": "ipython3",
   "version": "3.9.18"
  }
 },
 "nbformat": 4,
 "nbformat_minor": 5
}
