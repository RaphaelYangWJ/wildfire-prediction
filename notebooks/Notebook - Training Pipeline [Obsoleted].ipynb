{
 "cells": [
  {
   "cell_type": "markdown",
   "id": "4b8bac000b8f7916",
   "metadata": {
    "collapsed": false
   },
   "source": [
    "# Notebook - Training Pipeline\n",
    "This notebook's function is replaced by training pipeline's src - trainer.py"
   ]
  },
  {
   "cell_type": "markdown",
   "id": "ebb955738c3e450c",
   "metadata": {
    "collapsed": false
   },
   "source": [
    "### Import Modules"
   ]
  },
  {
   "cell_type": "code",
   "execution_count": 1,
   "id": "29f9877f3bf25bcd",
   "metadata": {
    "collapsed": false,
    "ExecuteTime": {
     "end_time": "2023-12-30T11:23:06.273116600Z",
     "start_time": "2023-12-30T11:23:03.075676200Z"
    }
   },
   "outputs": [],
   "source": [
    "# import matplotlib.pyplot as plt\n",
    "import numpy as np\n",
    "import pandas as pd\n",
    "import torch.nn as nn\n",
    "import torch.optim as optim\n",
    "import torch.utils.data as Data\n",
    "from tqdm import tqdm\n",
    "from sklearn import metrics\n",
    "import torch\n",
    "from sklearn.preprocessing import StandardScaler\n",
    "import matplotlib.pyplot as plt\n",
    "%matplotlib inline\n",
    "import warnings\n",
    "warnings.filterwarnings(\"ignore\")"
   ]
  },
  {
   "cell_type": "code",
   "execution_count": 19,
   "id": "cd952740d8525e76",
   "metadata": {
    "collapsed": false,
    "ExecuteTime": {
     "end_time": "2023-12-30T08:43:57.571714800Z",
     "start_time": "2023-12-30T08:43:57.510608900Z"
    }
   },
   "outputs": [],
   "source": [
    "# set seed\n",
    "torch.cuda.manual_seed(1)\n",
    "# Switch to GPU for Training\n",
    "device = torch.device(\"cuda\" if torch.cuda.is_available() else \"cpu\")\n",
    "# Clear GPU caches\n",
    "torch.cuda.empty_cache()\n",
    "# print(torch.cuda.memory_summary())"
   ]
  },
  {
   "cell_type": "markdown",
   "source": [
    "### Parameters Setup"
   ],
   "metadata": {
    "collapsed": false
   },
   "id": "9700ef229574da1a"
  },
  {
   "cell_type": "code",
   "execution_count": 20,
   "outputs": [],
   "source": [
    "batch_size = 20000 # 20000\n",
    "split_ratio = 0.8\n",
    "learning_rate = 0.00015\n",
    "epochs = 300"
   ],
   "metadata": {
    "collapsed": false,
    "ExecuteTime": {
     "end_time": "2023-12-30T08:43:57.572714700Z",
     "start_time": "2023-12-30T08:43:57.533664500Z"
    }
   },
   "id": "8f8f3047a4382aac"
  },
  {
   "cell_type": "markdown",
   "id": "221f81736ab3fde5",
   "metadata": {
    "collapsed": false
   },
   "source": [
    "### Load Dataset"
   ]
  },
  {
   "cell_type": "code",
   "execution_count": 21,
   "id": "c2e6fec17907ecb8",
   "metadata": {
    "collapsed": false,
    "ExecuteTime": {
     "end_time": "2023-12-30T08:43:58.210163800Z",
     "start_time": "2023-12-30T08:43:57.549182300Z"
    }
   },
   "outputs": [
    {
     "name": "stdout",
     "output_type": "stream",
     "text": [
      "Index(['fuel_load_cwdc', 'fuel_load_deadcrootc', 'fuel_wetness',\n",
      "       'fuel_temperature', 'climate_wind', 'climate_tbot', 'climate_rh2m',\n",
      "       'climate_rain', 'human_density', 'light_frequency', 'burned_area',\n",
      "       'burned_area_mom', 'burned_area_yoy', 'month', 'sequence', 'lat', 'lon',\n",
      "       'burned_area_mom_conv', 'burned_area_yoy_conv'],\n",
      "      dtype='object')\n",
      "(106863, 16) (106863, 1)\n"
     ]
    }
   ],
   "source": [
    "# import dataset\n",
    "dataset = pd.read_csv(\"modeling_cnn_data.csv\")\n",
    "print(dataset.columns)\n",
    "# get x and y\n",
    "x = dataset[['fuel_load_cwdc', 'fuel_load_deadcrootc', 'fuel_wetness', 'fuel_temperature', 'climate_wind', 'climate_tbot', 'climate_rh2m', 'climate_rain', 'human_density', 'light_frequency',\"burned_area_mom\",\"burned_area_yoy\",\"burned_area_mom_conv\",\"burned_area_yoy_conv\",\"lat\",\"month\"]]\n",
    "y = dataset[\"burned_area\"]\n",
    "# convert to numpy\n",
    "x = np.array(x)\n",
    "y = np.array(y).reshape(-1, 1)\n",
    "print(x.shape, y.shape)"
   ]
  },
  {
   "cell_type": "markdown",
   "source": [
    "### Standardization / Normalization"
   ],
   "metadata": {
    "collapsed": false
   },
   "id": "dd3aa75babb959b2"
  },
  {
   "cell_type": "code",
   "execution_count": 22,
   "outputs": [],
   "source": [
    "scaler_X = StandardScaler()\n",
    "scaler_y = StandardScaler()\n",
    "x_stand = scaler_X.fit_transform(x)\n",
    "y_stand = scaler_y.fit_transform(y)"
   ],
   "metadata": {
    "collapsed": false,
    "ExecuteTime": {
     "end_time": "2023-12-30T08:43:58.256430Z",
     "start_time": "2023-12-30T08:43:58.212163600Z"
    }
   },
   "id": "3013428bf2335907"
  },
  {
   "cell_type": "markdown",
   "id": "7a305aeb7716ea4a",
   "metadata": {
    "collapsed": false
   },
   "source": [
    "### Train Test Split"
   ]
  },
  {
   "cell_type": "code",
   "execution_count": 23,
   "outputs": [],
   "source": [
    "train_x = x_stand[0:int(split_ratio*len(x_stand)),:]\n",
    "train_y = y_stand[0:int(split_ratio*len(y_stand)),:]\n",
    "test_x = x_stand[int(split_ratio*len(x_stand)):x_stand.shape[0],:]\n",
    "test_y = y_stand[int(split_ratio*len(y_stand)):y_stand.shape[0],:]"
   ],
   "metadata": {
    "collapsed": false,
    "ExecuteTime": {
     "end_time": "2023-12-30T08:43:58.257430600Z",
     "start_time": "2023-12-30T08:43:58.241261800Z"
    }
   },
   "id": "ae1637504aa2193a"
  },
  {
   "cell_type": "markdown",
   "source": [
    "### Define Dataset and Dataloader"
   ],
   "metadata": {
    "collapsed": false
   },
   "id": "c54cbeaaa101c1f9"
  },
  {
   "cell_type": "code",
   "execution_count": 24,
   "outputs": [],
   "source": [
    "class Dataset(torch.utils.data.Dataset):\n",
    "    def __init__(self, data_inputs, data_targets):\n",
    "        self.inputs = torch.tensor(data_inputs).float()\n",
    "        self.label = torch.tensor(data_targets).float()\n",
    "\n",
    "    def __getitem__(self, idx):\n",
    "        x = self.inputs[idx]\n",
    "        y = self.label[idx]\n",
    "        return x, y\n",
    "\n",
    "    def __len__(self):\n",
    "        return len(self.label)"
   ],
   "metadata": {
    "collapsed": false,
    "ExecuteTime": {
     "end_time": "2023-12-30T08:43:58.291488700Z",
     "start_time": "2023-12-30T08:43:58.256430Z"
    }
   },
   "id": "7a88c1221a834837"
  },
  {
   "cell_type": "code",
   "execution_count": 25,
   "outputs": [],
   "source": [
    "trainset = Dataset(train_x, train_y)\n",
    "testset = Dataset(test_x, test_y)\n",
    "TrainDataLoader = Data.DataLoader(trainset, batch_size=batch_size, shuffle=True, drop_last=False)\n",
    "TestDataLoader = Data.DataLoader(testset, batch_size=batch_size, shuffle=False, drop_last=False)"
   ],
   "metadata": {
    "collapsed": false,
    "ExecuteTime": {
     "end_time": "2023-12-30T08:43:58.292488700Z",
     "start_time": "2023-12-30T08:43:58.272458400Z"
    }
   },
   "id": "6fcbe9108227d971"
  },
  {
   "cell_type": "code",
   "execution_count": 26,
   "outputs": [
    {
     "name": "stdout",
     "output_type": "stream",
     "text": [
      "torch.Size([20000, 16]) torch.Size([20000, 1])\n"
     ]
    }
   ],
   "source": [
    "for i,(v,j) in enumerate(TrainDataLoader):\n",
    "    print(v.shape,j.shape)\n",
    "    break"
   ],
   "metadata": {
    "collapsed": false,
    "ExecuteTime": {
     "end_time": "2023-12-30T08:43:58.547348500Z",
     "start_time": "2023-12-30T08:43:58.286983400Z"
    }
   },
   "id": "533e3fdad6f8cd45"
  },
  {
   "cell_type": "markdown",
   "source": [
    "### Neural Network Architecture"
   ],
   "metadata": {
    "collapsed": false
   },
   "id": "95d840dc766e71f7"
  },
  {
   "cell_type": "code",
   "execution_count": 27,
   "outputs": [],
   "source": [
    "# Define the neural network\n",
    "class network(nn.Module):\n",
    "    def __init__(self):\n",
    "        super(network, self).__init__()\n",
    "        self.layer1 = nn.Linear(train_x.shape[1], train_x.shape[1]*2)\n",
    "        self.layer2 = nn.Linear(train_x.shape[1]*2, 32)\n",
    "        self.layer3 = nn.Linear(32, 16)\n",
    "        self.layer4 = nn.Linear(16, 4)\n",
    "        self.layer5 = nn.Linear(4, 1)\n",
    "        self.activation = nn.Tanh()\n",
    "        self.dropout = nn.Dropout(0.1)\n",
    "\n",
    "    def forward(self, x):\n",
    "        x = self.layer1(x)\n",
    "        x = self.activation(x)\n",
    "        x = self.dropout(x)\n",
    "        x = self.layer2(x)\n",
    "        x = self.activation(x)\n",
    "        x = self.dropout(x)\n",
    "        x = self.layer3(x)\n",
    "        x = self.activation(x)\n",
    "        x = self.dropout(x)\n",
    "        x = self.layer4(x)\n",
    "        x = self.activation(x)\n",
    "        x = self.dropout(x)\n",
    "        x = self.layer5(x)\n",
    "  \n",
    "        return x"
   ],
   "metadata": {
    "collapsed": false,
    "ExecuteTime": {
     "end_time": "2023-12-30T08:43:58.576293600Z",
     "start_time": "2023-12-30T08:43:58.547348500Z"
    }
   },
   "id": "390e3d6f300ec0b8"
  },
  {
   "cell_type": "code",
   "execution_count": 28,
   "outputs": [
    {
     "data": {
      "text/plain": "network(\n  (layer1): Linear(in_features=16, out_features=32, bias=True)\n  (layer2): Linear(in_features=32, out_features=32, bias=True)\n  (layer3): Linear(in_features=32, out_features=16, bias=True)\n  (layer4): Linear(in_features=16, out_features=4, bias=True)\n  (layer5): Linear(in_features=4, out_features=1, bias=True)\n  (activation): Tanh()\n  (dropout): Dropout(p=0.1, inplace=False)\n)"
     },
     "execution_count": 28,
     "metadata": {},
     "output_type": "execute_result"
    }
   ],
   "source": [
    "net = network().to(device)\n",
    "criterion = nn.MSELoss()\n",
    "optimizer = optim.Adam(net.parameters(), lr=learning_rate)\n",
    "net"
   ],
   "metadata": {
    "collapsed": false,
    "ExecuteTime": {
     "end_time": "2023-12-30T08:43:58.586803100Z",
     "start_time": "2023-12-30T08:43:58.566147400Z"
    }
   },
   "id": "3b27ac9746f595ac"
  },
  {
   "cell_type": "markdown",
   "source": [
    "### Training"
   ],
   "metadata": {
    "collapsed": false
   },
   "id": "9c39054d089a7d72"
  },
  {
   "cell_type": "code",
   "execution_count": 29,
   "outputs": [],
   "source": [
    "# metrics lists\n",
    "train_loss_history = []\n",
    "train_r2_history = []\n",
    "val_loss_history = []\n",
    "val_r2_history = []\n",
    "val_rho_history = []"
   ],
   "metadata": {
    "collapsed": false,
    "ExecuteTime": {
     "end_time": "2023-12-30T08:43:58.607173700Z",
     "start_time": "2023-12-30T08:43:58.579797400Z"
    }
   },
   "id": "3d70748bd7b52f6a"
  },
  {
   "cell_type": "code",
   "execution_count": 30,
   "outputs": [
    {
     "name": "stderr",
     "output_type": "stream",
     "text": [
      "Training:   3%|▎         | 10/300 [00:10<05:03,  1.05s/it]"
     ]
    },
    {
     "name": "stdout",
     "output_type": "stream",
     "text": [
      "Current Epoch: 10/300  | Train Loss: 0.8240730166435242  | Train R2: 0.18697451063169912  | Val Loss: 0.7107888460159302  | Val Rho: 0.6361433918007595  | Val R2: -0.32529371514728544\n"
     ]
    },
    {
     "name": "stderr",
     "output_type": "stream",
     "text": [
      "Training:   7%|▋         | 20/300 [00:21<05:06,  1.09s/it]"
     ]
    },
    {
     "name": "stdout",
     "output_type": "stream",
     "text": [
      "Current Epoch: 20/300  | Train Loss: 0.5917744636535645  | Train R2: 0.41980221266511963  | Val Loss: 0.43936237692832947  | Val Rho: 0.8020891163303703  | Val R2: 0.18079146200945206\n"
     ]
    },
    {
     "name": "stderr",
     "output_type": "stream",
     "text": [
      "Training:  10%|█         | 30/300 [00:31<04:44,  1.05s/it]"
     ]
    },
    {
     "name": "stdout",
     "output_type": "stream",
     "text": [
      "Current Epoch: 30/300  | Train Loss: 0.4247992932796478  | Train R2: 0.581897023926046  | Val Loss: 0.2767355740070343  | Val Rho: 0.8133094352489644  | Val R2: 0.48401564274409703\n"
     ]
    },
    {
     "name": "stderr",
     "output_type": "stream",
     "text": [
      "Training:  13%|█▎        | 40/300 [00:42<04:34,  1.05s/it]"
     ]
    },
    {
     "name": "stdout",
     "output_type": "stream",
     "text": [
      "Current Epoch: 40/300  | Train Loss: 0.3516162931919098  | Train R2: 0.6538028000147491  | Val Loss: 0.23546728491783142  | Val Rho: 0.8010218204165583  | Val R2: 0.5609619837978085\n"
     ]
    },
    {
     "name": "stderr",
     "output_type": "stream",
     "text": [
      "Training:  17%|█▋        | 50/300 [00:55<05:41,  1.36s/it]"
     ]
    },
    {
     "name": "stdout",
     "output_type": "stream",
     "text": [
      "Current Epoch: 50/300  | Train Loss: 0.3142666518688202  | Train R2: 0.6871023932933806  | Val Loss: 0.2203955054283142  | Val Rho: 0.7963200151770042  | Val R2: 0.5890639310196135\n"
     ]
    },
    {
     "name": "stderr",
     "output_type": "stream",
     "text": [
      "Training:  20%|██        | 60/300 [01:08<05:17,  1.32s/it]"
     ]
    },
    {
     "name": "stdout",
     "output_type": "stream",
     "text": [
      "Current Epoch: 60/300  | Train Loss: 0.30759021639823914  | Train R2: 0.6928360511532751  | Val Loss: 0.2087271362543106  | Val Rho: 0.7985060346467812  | Val R2: 0.61082000325174\n"
     ]
    },
    {
     "name": "stderr",
     "output_type": "stream",
     "text": [
      "Training:  23%|██▎       | 70/300 [01:20<04:23,  1.15s/it]"
     ]
    },
    {
     "name": "stdout",
     "output_type": "stream",
     "text": [
      "Current Epoch: 70/300  | Train Loss: 0.30144521594047546  | Train R2: 0.7032443539214364  | Val Loss: 0.19886572659015656  | Val Rho: 0.8041370425275384  | Val R2: 0.6292070252021585\n"
     ]
    },
    {
     "name": "stderr",
     "output_type": "stream",
     "text": [
      "Training:  27%|██▋       | 80/300 [01:32<04:20,  1.19s/it]"
     ]
    },
    {
     "name": "stdout",
     "output_type": "stream",
     "text": [
      "Current Epoch: 80/300  | Train Loss: 0.2942737340927124  | Train R2: 0.7063323211499172  | Val Loss: 0.19043584167957306  | Val Rho: 0.8107110090545897  | Val R2: 0.6449248756123036\n"
     ]
    },
    {
     "name": "stderr",
     "output_type": "stream",
     "text": [
      "Training:  30%|███       | 90/300 [01:44<03:57,  1.13s/it]"
     ]
    },
    {
     "name": "stdout",
     "output_type": "stream",
     "text": [
      "Current Epoch: 90/300  | Train Loss: 0.297607958316803  | Train R2: 0.7101569358627497  | Val Loss: 0.18314097821712494  | Val Rho: 0.8173036382632375  | Val R2: 0.6585264489132558\n"
     ]
    },
    {
     "name": "stderr",
     "output_type": "stream",
     "text": [
      "Training:  33%|███▎      | 100/300 [01:55<03:46,  1.13s/it]"
     ]
    },
    {
     "name": "stdout",
     "output_type": "stream",
     "text": [
      "Current Epoch: 100/300  | Train Loss: 0.295166939496994  | Train R2: 0.7132462972730351  | Val Loss: 0.17688311636447906  | Val Rho: 0.8233405141553055  | Val R2: 0.6701944667841102\n"
     ]
    },
    {
     "name": "stderr",
     "output_type": "stream",
     "text": [
      "Training:  37%|███▋      | 110/300 [02:08<03:33,  1.12s/it]"
     ]
    },
    {
     "name": "stdout",
     "output_type": "stream",
     "text": [
      "Current Epoch: 110/300  | Train Loss: 0.28299447894096375  | Train R2: 0.7133000321374474  | Val Loss: 0.1720815747976303  | Val Rho: 0.828391199594784  | Val R2: 0.6791471267412171\n"
     ]
    },
    {
     "name": "stderr",
     "output_type": "stream",
     "text": [
      "Training:  40%|████      | 120/300 [02:18<03:13,  1.07s/it]"
     ]
    },
    {
     "name": "stdout",
     "output_type": "stream",
     "text": [
      "Current Epoch: 120/300  | Train Loss: 0.28920966386795044  | Train R2: 0.7170810797379077  | Val Loss: 0.167541965842247  | Val Rho: 0.8329790837802157  | Val R2: 0.6876114109406212\n"
     ]
    },
    {
     "name": "stderr",
     "output_type": "stream",
     "text": [
      "Training:  43%|████▎     | 130/300 [02:28<02:56,  1.04s/it]"
     ]
    },
    {
     "name": "stdout",
     "output_type": "stream",
     "text": [
      "Current Epoch: 130/300  | Train Loss: 0.2863917052745819  | Train R2: 0.720570429987961  | Val Loss: 0.1642712950706482  | Val Rho: 0.836526153154786  | Val R2: 0.6937097005888913\n"
     ]
    },
    {
     "name": "stderr",
     "output_type": "stream",
     "text": [
      "Training:  47%|████▋     | 140/300 [02:38<02:37,  1.02it/s]"
     ]
    },
    {
     "name": "stdout",
     "output_type": "stream",
     "text": [
      "Current Epoch: 140/300  | Train Loss: 0.2837858200073242  | Train R2: 0.7207584658169248  | Val Loss: 0.16082720458507538  | Val Rho: 0.8399283253535381  | Val R2: 0.7001313345309367\n"
     ]
    },
    {
     "name": "stderr",
     "output_type": "stream",
     "text": [
      "Training:  50%|█████     | 150/300 [02:48<02:28,  1.01it/s]"
     ]
    },
    {
     "name": "stdout",
     "output_type": "stream",
     "text": [
      "Current Epoch: 150/300  | Train Loss: 0.28621628880500793  | Train R2: 0.7230988105041729  | Val Loss: 0.1581948697566986  | Val Rho: 0.8427098257265436  | Val R2: 0.7050394356758096\n"
     ]
    },
    {
     "name": "stderr",
     "output_type": "stream",
     "text": [
      "Training:  53%|█████▎    | 160/300 [02:58<02:20,  1.00s/it]"
     ]
    },
    {
     "name": "stdout",
     "output_type": "stream",
     "text": [
      "Current Epoch: 160/300  | Train Loss: 0.2899682819843292  | Train R2: 0.7206502526287772  | Val Loss: 0.1561051905155182  | Val Rho: 0.84493398602934  | Val R2: 0.7089357047254309\n"
     ]
    },
    {
     "name": "stderr",
     "output_type": "stream",
     "text": [
      "Training:  57%|█████▋    | 170/300 [03:09<02:18,  1.06s/it]"
     ]
    },
    {
     "name": "stdout",
     "output_type": "stream",
     "text": [
      "Current Epoch: 170/300  | Train Loss: 0.2797800600528717  | Train R2: 0.7251771621178308  | Val Loss: 0.1542791873216629  | Val Rho: 0.8468829586471682  | Val R2: 0.7123403921231836\n"
     ]
    },
    {
     "name": "stderr",
     "output_type": "stream",
     "text": [
      "Training:  60%|██████    | 180/300 [03:19<01:58,  1.01it/s]"
     ]
    },
    {
     "name": "stdout",
     "output_type": "stream",
     "text": [
      "Current Epoch: 180/300  | Train Loss: 0.2845599055290222  | Train R2: 0.7313375521753636  | Val Loss: 0.15266339480876923  | Val Rho: 0.8486797150318633  | Val R2: 0.7153530581678468\n"
     ]
    },
    {
     "name": "stderr",
     "output_type": "stream",
     "text": [
      "Training:  63%|██████▎   | 190/300 [03:29<01:48,  1.01it/s]"
     ]
    },
    {
     "name": "stdout",
     "output_type": "stream",
     "text": [
      "Current Epoch: 190/300  | Train Loss: 0.286224365234375  | Train R2: 0.7236646754134143  | Val Loss: 0.15094386041164398  | Val Rho: 0.850460232244689  | Val R2: 0.7185592442442439\n"
     ]
    },
    {
     "name": "stderr",
     "output_type": "stream",
     "text": [
      "Training:  67%|██████▋   | 200/300 [03:40<01:42,  1.03s/it]"
     ]
    },
    {
     "name": "stdout",
     "output_type": "stream",
     "text": [
      "Current Epoch: 200/300  | Train Loss: 0.27685362100601196  | Train R2: 0.7302492451810394  | Val Loss: 0.14983755350112915  | Val Rho: 0.8518894999191975  | Val R2: 0.7206219711892274\n"
     ]
    },
    {
     "name": "stderr",
     "output_type": "stream",
     "text": [
      "Training:  70%|███████   | 210/300 [03:51<01:35,  1.06s/it]"
     ]
    },
    {
     "name": "stdout",
     "output_type": "stream",
     "text": [
      "Current Epoch: 210/300  | Train Loss: 0.28001919388771057  | Train R2: 0.7280687024870232  | Val Loss: 0.14813631772994995  | Val Rho: 0.8535070374370796  | Val R2: 0.7237939709477664\n"
     ]
    },
    {
     "name": "stderr",
     "output_type": "stream",
     "text": [
      "Training:  73%|███████▎  | 220/300 [04:00<01:17,  1.04it/s]"
     ]
    },
    {
     "name": "stdout",
     "output_type": "stream",
     "text": [
      "Current Epoch: 220/300  | Train Loss: 0.27833423018455505  | Train R2: 0.7291197397723173  | Val Loss: 0.14707906544208527  | Val Rho: 0.8548443935254709  | Val R2: 0.7257652874000518\n"
     ]
    },
    {
     "name": "stderr",
     "output_type": "stream",
     "text": [
      "Training:  77%|███████▋  | 230/300 [04:11<01:09,  1.01it/s]"
     ]
    },
    {
     "name": "stdout",
     "output_type": "stream",
     "text": [
      "Current Epoch: 230/300  | Train Loss: 0.2785947620868683  | Train R2: 0.7279190143860628  | Val Loss: 0.14609475433826447  | Val Rho: 0.8558320009547112  | Val R2: 0.7276005771242068\n"
     ]
    },
    {
     "name": "stderr",
     "output_type": "stream",
     "text": [
      "Training:  80%|████████  | 240/300 [04:22<01:05,  1.09s/it]"
     ]
    },
    {
     "name": "stdout",
     "output_type": "stream",
     "text": [
      "Current Epoch: 240/300  | Train Loss: 0.27761876583099365  | Train R2: 0.7298451763496949  | Val Loss: 0.14535492658615112  | Val Rho: 0.856843937343738  | Val R2: 0.7289800077695376\n"
     ]
    },
    {
     "name": "stderr",
     "output_type": "stream",
     "text": [
      "Training:  83%|████████▎ | 250/300 [04:32<00:49,  1.01it/s]"
     ]
    },
    {
     "name": "stdout",
     "output_type": "stream",
     "text": [
      "Current Epoch: 250/300  | Train Loss: 0.2674749493598938  | Train R2: 0.7393187237811873  | Val Loss: 0.14378269016742706  | Val Rho: 0.8581265008072135  | Val R2: 0.7319115301907526\n"
     ]
    },
    {
     "name": "stderr",
     "output_type": "stream",
     "text": [
      "Training:  87%|████████▋ | 260/300 [04:41<00:38,  1.05it/s]"
     ]
    },
    {
     "name": "stdout",
     "output_type": "stream",
     "text": [
      "Current Epoch: 260/300  | Train Loss: 0.2754753828048706  | Train R2: 0.7387029718294985  | Val Loss: 0.14313232898712158  | Val Rho: 0.8591079655990123  | Val R2: 0.7331241234377646\n"
     ]
    },
    {
     "name": "stderr",
     "output_type": "stream",
     "text": [
      "Training:  90%|█████████ | 270/300 [04:51<00:28,  1.04it/s]"
     ]
    },
    {
     "name": "stdout",
     "output_type": "stream",
     "text": [
      "Current Epoch: 270/300  | Train Loss: 0.2750868797302246  | Train R2: 0.7326536213017651  | Val Loss: 0.1417986899614334  | Val Rho: 0.8603696855072439  | Val R2: 0.7356107479453209\n"
     ]
    },
    {
     "name": "stderr",
     "output_type": "stream",
     "text": [
      "Training:  93%|█████████▎| 280/300 [05:01<00:20,  1.04s/it]"
     ]
    },
    {
     "name": "stdout",
     "output_type": "stream",
     "text": [
      "Current Epoch: 280/300  | Train Loss: 0.273958683013916  | Train R2: 0.7311148821584786  | Val Loss: 0.14125072956085205  | Val Rho: 0.8612773986000635  | Val R2: 0.7366324389396774\n"
     ]
    },
    {
     "name": "stderr",
     "output_type": "stream",
     "text": [
      "Training:  97%|█████████▋| 290/300 [05:11<00:10,  1.03s/it]"
     ]
    },
    {
     "name": "stdout",
     "output_type": "stream",
     "text": [
      "Current Epoch: 290/300  | Train Loss: 0.2752576172351837  | Train R2: 0.734361292684478  | Val Loss: 0.13996003568172455  | Val Rho: 0.8622957089797475  | Val R2: 0.7390389894006653\n"
     ]
    },
    {
     "name": "stderr",
     "output_type": "stream",
     "text": [
      "Training: 100%|██████████| 300/300 [05:21<00:00,  1.07s/it]"
     ]
    },
    {
     "name": "stdout",
     "output_type": "stream",
     "text": [
      "Current Epoch: 300/300  | Train Loss: 0.27184608578681946  | Train R2: 0.7370878146352244  | Val Loss: 0.13926252722740173  | Val Rho: 0.8632565704534602  | Val R2: 0.7403395439913975\n"
     ]
    },
    {
     "name": "stderr",
     "output_type": "stream",
     "text": [
      "\n"
     ]
    }
   ],
   "source": [
    "# Perform iterations\n",
    "for epoch in tqdm(range(epochs), desc='Training'):\n",
    "    # create lists\n",
    "    train_loss_lst = []\n",
    "    train_r2_lst = []\n",
    "    val_loss_lst = []\n",
    "    val_r2_lst = []\n",
    "    val_rho_lst = []\n",
    "    \n",
    "    \n",
    "    # ====== Training Mode ======\n",
    "    net.train()\n",
    "    for (x_input, y_true) in TrainDataLoader:\n",
    "        # attach to GPU\n",
    "        x_input = x_input.to(device)\n",
    "        y_true = y_true.to(device)\n",
    "        # gain outputs\n",
    "        outputs = net(x_input)\n",
    "        # compute loss\n",
    "        loss = criterion(outputs, y_true)\n",
    "        # Back propagation\n",
    "        optimizer.zero_grad()\n",
    "        loss.backward()\n",
    "        optimizer.step()\n",
    "        # r2 = r_squared(y_true, outputs)\n",
    "        r2 = metrics.r2_score(y_true.detach().cpu().numpy().squeeze(),outputs.detach().cpu().numpy().squeeze())\n",
    "        # append results\n",
    "        train_loss_lst.append(loss.item())\n",
    "        train_r2_lst.append(r2)\n",
    "    # Append the performance result after each epoch\n",
    "    best_perform = train_r2_lst.index(max(train_r2_lst))\n",
    "    train_loss_history.append(train_loss_lst[best_perform])\n",
    "    train_r2_history.append(train_r2_lst[best_perform])\n",
    "    # ====== Training Mode End ======\n",
    "    \n",
    "    \n",
    "    # ====== Testing Mode ======\n",
    "    net.eval()\n",
    "    for (x_val_input, y_val_input) in TestDataLoader:\n",
    "        # attach to GPU\n",
    "        x_val_input = x_val_input.to(device)\n",
    "        y_val_input = y_val_input.to(device)\n",
    "        # gain outputs\n",
    "        outputs = net(x_val_input)\n",
    "        # compute loss\n",
    "        loss = criterion(outputs, y_val_input)\n",
    "        # r2 = r_squared(y_val_input, outputs) & Rho\n",
    "        r2 = metrics.r2_score(y_val_input.detach().cpu().numpy().squeeze(),outputs.detach().cpu().numpy().squeeze())\n",
    "        rho = np.corrcoef(y_val_input.detach().cpu().numpy().squeeze(), outputs.detach().cpu().numpy().squeeze())[0][1]\n",
    "        # append results\n",
    "        val_rho_lst.append(rho)\n",
    "        val_loss_lst.append(loss.item())\n",
    "        val_r2_lst.append(r2)\n",
    "    # Append the performance result after each epoch\n",
    "    best_perform = val_r2_lst.index(max(val_r2_lst))\n",
    "    val_loss_history.append(val_loss_lst[best_perform])\n",
    "    val_r2_history.append(val_r2_lst[best_perform])\n",
    "    val_rho_history.append(val_rho_lst[best_perform])\n",
    "    # ====== Testing Mode End ======\n",
    "    \n",
    "    \n",
    "    # output the performance every 10 times\n",
    "    if str(epoch+1).endswith(\"0\"):\n",
    "        print(\"Current Epoch: \"+str(epoch+1)+\"/\"+str(epochs), \" | Train Loss: \"+str(train_loss_history[-1]), \" | Train R2: \"+str(train_r2_history[-1]),\" | Val Loss: \"+str(val_loss_history[-1]),\" | Val Rho: \"+str(val_rho_history[-1]),\" | Val R2: \"+str(val_r2_history[-1]))"
   ],
   "metadata": {
    "collapsed": false,
    "ExecuteTime": {
     "end_time": "2023-12-30T08:49:20.409883700Z",
     "start_time": "2023-12-30T08:43:58.595655300Z"
    }
   },
   "id": "4bbd7ee280cc8e4a"
  },
  {
   "cell_type": "markdown",
   "source": [
    "### Save model parameters"
   ],
   "metadata": {
    "collapsed": false
   },
   "id": "10b2aa640630de2"
  },
  {
   "cell_type": "code",
   "execution_count": 31,
   "outputs": [
    {
     "name": "stdout",
     "output_type": "stream",
     "text": [
      "Model saved to local disk.\n",
      "Evaluation Metrics saved to local disk.\n"
     ]
    }
   ],
   "source": [
    "# Save Model Path\n",
    "path = \"WildFire CNN Prediction.pth\"\n",
    "torch.save(net.state_dict(),path)\n",
    "print(\"Model saved to local disk.\")\n",
    "\n",
    "evaluation = pd.DataFrame(columns = [\"train loss\",\"train accuracy\",\"validation loss\",\"validation accuracy\",\"validation Rho\"])\n",
    "evaluation[\"train loss\"] =train_loss_history\n",
    "evaluation[\"train accuracy\"] =train_r2_history\n",
    "evaluation[\"validation loss\"] =val_loss_history\n",
    "evaluation[\"validation accuracy\"] = val_r2_history\n",
    "evaluation[\"validation Rho\"] = val_rho_history\n",
    "evaluation.to_csv(\"model_cnn_evaluation.csv\",index=False)\n",
    "print(\"Evaluation Metrics saved to local disk.\")"
   ],
   "metadata": {
    "collapsed": false,
    "ExecuteTime": {
     "end_time": "2023-12-30T08:49:20.470636100Z",
     "start_time": "2023-12-30T08:49:20.410882600Z"
    }
   },
   "id": "b48e804866674d7a"
  },
  {
   "cell_type": "markdown",
   "source": [
    "### Model Performance Check"
   ],
   "metadata": {
    "collapsed": false
   },
   "id": "b7877541abe6d411"
  },
  {
   "cell_type": "code",
   "execution_count": 32,
   "outputs": [
    {
     "data": {
      "text/plain": "<matplotlib.legend.Legend at 0x1e0e676f250>"
     },
     "execution_count": 32,
     "metadata": {},
     "output_type": "execute_result"
    },
    {
     "data": {
      "text/plain": "<Figure size 640x480 with 1 Axes>",
      "image/png": "[encoded data removed]"
     },
     "metadata": {},
     "output_type": "display_data"
    }
   ],
   "source": [
    "plt.plot(train_loss_history, label = \"train loss\")\n",
    "plt.plot(val_loss_history, label = \"test loss\")\n",
    "plt.title(\"Loss Diagram of Model\")\n",
    "plt.legend()"
   ],
   "metadata": {
    "collapsed": false,
    "ExecuteTime": {
     "end_time": "2023-12-30T08:49:20.624819Z",
     "start_time": "2023-12-30T08:49:20.471636300Z"
    }
   },
   "id": "9773b3cbfc3cf6a5"
  },
  {
   "cell_type": "code",
   "execution_count": 33,
   "outputs": [
    {
     "data": {
      "text/plain": "<matplotlib.legend.Legend at 0x1e0e774b850>"
     },
     "execution_count": 33,
     "metadata": {},
     "output_type": "execute_result"
    },
    {
     "data": {
      "text/plain": "<Figure size 640x480 with 1 Axes>",
      "image/png": "[encoded data removed]"
     },
     "metadata": {},
     "output_type": "display_data"
    }
   ],
   "source": [
    "plt.plot(train_r2_history, label = \"train accuracy\")\n",
    "plt.plot(val_r2_history, label = \"test accuracy\")\n",
    "plt.title(\"Accuracy (R-squared) Diagram of Model\")\n",
    "plt.legend()"
   ],
   "metadata": {
    "collapsed": false,
    "ExecuteTime": {
     "end_time": "2023-12-30T08:49:20.796207Z",
     "start_time": "2023-12-30T08:49:20.626819100Z"
    }
   },
   "id": "8d198a7382acb16"
  },
  {
   "cell_type": "code",
   "execution_count": 34,
   "outputs": [
    {
     "data": {
      "text/plain": "Text(0.5, 1.0, 'Correlation between prediction & true burned area')"
     },
     "execution_count": 34,
     "metadata": {},
     "output_type": "execute_result"
    },
    {
     "data": {
      "text/plain": "<Figure size 640x480 with 1 Axes>",
      "image/png": "[encoded data removed]"
     },
     "metadata": {},
     "output_type": "display_data"
    }
   ],
   "source": [
    "plt.plot(val_rho_history)\n",
    "plt.title(\"Correlation between prediction & true burned area\")"
   ],
   "metadata": {
    "collapsed": false,
    "ExecuteTime": {
     "end_time": "2023-12-30T08:49:20.936674700Z",
     "start_time": "2023-12-30T08:49:20.797207300Z"
    }
   },
   "id": "d18c756fbcb6b031"
  }
 ],
 "metadata": {
  "kernelspec": {
   "display_name": "Python 3 (ipykernel)",
   "language": "python",
   "name": "python3"
  },
  "language_info": {
   "codemirror_mode": {
    "name": "ipython",
    "version": 3
   },
   "file_extension": ".py",
   "mimetype": "text/x-python",
   "name": "python",
   "nbconvert_exporter": "python",
   "pygments_lexer": "ipython3",
   "version": "3.9.18"
  }
 },
 "nbformat": 4,
 "nbformat_minor": 5
}
