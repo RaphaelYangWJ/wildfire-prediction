{
 "cells": [
  {
   "cell_type": "markdown",
   "id": "4b8bac000b8f7916",
   "metadata": {
    "collapsed": false
   },
   "source": [
    "# WildFire ML Project - Convolutional Deep Neural Networks"
   ]
  },
  {
   "cell_type": "markdown",
   "id": "ebb955738c3e450c",
   "metadata": {
    "collapsed": false
   },
   "source": [
    "### Import Modules"
   ]
  },
  {
   "cell_type": "code",
   "execution_count": 1,
   "id": "29f9877f3bf25bcd",
   "metadata": {
    "collapsed": false,
    "ExecuteTime": {
     "end_time": "2023-12-08T02:03:07.029083400Z",
     "start_time": "2023-12-08T02:03:03.248212Z"
    }
   },
   "outputs": [],
   "source": [
    "# import matplotlib.pyplot as plt\n",
    "import numpy as np\n",
    "import pandas as pd\n",
    "import torch.nn as nn\n",
    "import torch.optim as optim\n",
    "import torch.utils.data as Data\n",
    "from tqdm import tqdm\n",
    "from sklearn import metrics\n",
    "import torch\n",
    "from sklearn.preprocessing import StandardScaler\n",
    "import matplotlib.pyplot as plt\n",
    "%matplotlib inline\n",
    "import warnings\n",
    "warnings.filterwarnings(\"ignore\")"
   ]
  },
  {
   "cell_type": "code",
   "execution_count": 2,
   "id": "cd952740d8525e76",
   "metadata": {
    "collapsed": false,
    "ExecuteTime": {
     "end_time": "2023-12-07T14:47:32.027616600Z",
     "start_time": "2023-12-07T14:47:31.950126100Z"
    }
   },
   "outputs": [],
   "source": [
    "# set seed\n",
    "torch.cuda.manual_seed(1)\n",
    "# Switch to GPU for Training\n",
    "device = torch.device(\"cuda\" if torch.cuda.is_available() else \"cpu\")\n",
    "# Clear GPU caches\n",
    "torch.cuda.empty_cache()\n",
    "# print(torch.cuda.memory_summary())"
   ]
  },
  {
   "cell_type": "markdown",
   "source": [
    "### Parameters Setup"
   ],
   "metadata": {
    "collapsed": false
   },
   "id": "9700ef229574da1a"
  },
  {
   "cell_type": "code",
   "execution_count": 3,
   "outputs": [],
   "source": [
    "batch_size = 20000 # 20000\n",
    "split_ratio = 0.8\n",
    "learning_rate = 0.00015\n",
    "epochs = 250"
   ],
   "metadata": {
    "collapsed": false,
    "ExecuteTime": {
     "end_time": "2023-12-07T14:47:32.073638Z",
     "start_time": "2023-12-07T14:47:32.027616600Z"
    }
   },
   "id": "8f8f3047a4382aac"
  },
  {
   "cell_type": "markdown",
   "id": "221f81736ab3fde5",
   "metadata": {
    "collapsed": false
   },
   "source": [
    "### Load Dataset"
   ]
  },
  {
   "cell_type": "code",
   "execution_count": 4,
   "id": "c2e6fec17907ecb8",
   "metadata": {
    "collapsed": false,
    "ExecuteTime": {
     "end_time": "2023-12-07T14:47:33.083492100Z",
     "start_time": "2023-12-07T14:47:32.043247700Z"
    }
   },
   "outputs": [
    {
     "name": "stdout",
     "output_type": "stream",
     "text": [
      "Index(['fuel_load_cwdc', 'fuel_load_deadcrootc', 'fuel_wetness',\n",
      "       'fuel_temperature', 'climate_wind', 'climate_tbot', 'climate_rh2m',\n",
      "       'climate_rain', 'human_density', 'light_frequency', 'burned_area',\n",
      "       'burned_area_mom', 'burned_area_yoy', 'month', 'sequence', 'lat', 'lon',\n",
      "       'burned_area_mom_conv', 'burned_area_yoy_conv'],\n",
      "      dtype='object')\n",
      "(106863, 16) (106863, 1)\n"
     ]
    }
   ],
   "source": [
    "# import dataset\n",
    "dataset = pd.read_csv(\"modeling_cnn_data.csv\")\n",
    "print(dataset.columns)\n",
    "# get x and y\n",
    "x = dataset[['fuel_load_cwdc', 'fuel_load_deadcrootc', 'fuel_wetness', 'fuel_temperature', 'climate_wind', 'climate_tbot', 'climate_rh2m', 'climate_rain', 'human_density', 'light_frequency',\"burned_area_mom\",\"burned_area_yoy\",\"burned_area_mom_conv\",\"burned_area_yoy_conv\",\"lat\",\"month\"]]\n",
    "y = dataset[\"burned_area\"]\n",
    "# convert to numpy\n",
    "x = np.array(x)\n",
    "y = np.array(y).reshape(-1, 1)\n",
    "print(x.shape, y.shape)"
   ]
  },
  {
   "cell_type": "markdown",
   "source": [
    "### Standardization / Normalization"
   ],
   "metadata": {
    "collapsed": false
   },
   "id": "dd3aa75babb959b2"
  },
  {
   "cell_type": "code",
   "execution_count": 5,
   "outputs": [],
   "source": [
    "scaler_X = StandardScaler()\n",
    "scaler_y = StandardScaler()\n",
    "x_stand = scaler_X.fit_transform(x)\n",
    "y_stand = scaler_y.fit_transform(y)"
   ],
   "metadata": {
    "collapsed": false,
    "ExecuteTime": {
     "end_time": "2023-12-07T14:47:33.193326900Z",
     "start_time": "2023-12-07T14:47:33.081490500Z"
    }
   },
   "id": "3013428bf2335907"
  },
  {
   "cell_type": "markdown",
   "id": "7a305aeb7716ea4a",
   "metadata": {
    "collapsed": false
   },
   "source": [
    "### Train Test Split"
   ]
  },
  {
   "cell_type": "code",
   "execution_count": 6,
   "outputs": [],
   "source": [
    "train_x = x_stand[0:int(split_ratio*len(x_stand)),:]\n",
    "train_y = y_stand[0:int(split_ratio*len(y_stand)),:]\n",
    "test_x = x_stand[int(split_ratio*len(x_stand)):x_stand.shape[0],:]\n",
    "test_y = y_stand[int(split_ratio*len(y_stand)):y_stand.shape[0],:]"
   ],
   "metadata": {
    "collapsed": false,
    "ExecuteTime": {
     "end_time": "2023-12-07T14:47:33.194830300Z",
     "start_time": "2023-12-07T14:47:33.128142800Z"
    }
   },
   "id": "ae1637504aa2193a"
  },
  {
   "cell_type": "markdown",
   "source": [
    "### Define Dataset and Dataloader"
   ],
   "metadata": {
    "collapsed": false
   },
   "id": "c54cbeaaa101c1f9"
  },
  {
   "cell_type": "code",
   "execution_count": 7,
   "outputs": [],
   "source": [
    "class Dataset(torch.utils.data.Dataset):\n",
    "    def __init__(self, data_inputs, data_targets):\n",
    "        self.inputs = torch.tensor(data_inputs).float()\n",
    "        self.label = torch.tensor(data_targets).float()\n",
    "\n",
    "    def __getitem__(self, idx):\n",
    "        x = self.inputs[idx]\n",
    "        y = self.label[idx]\n",
    "        return x, y\n",
    "\n",
    "    def __len__(self):\n",
    "        return len(self.label)"
   ],
   "metadata": {
    "collapsed": false,
    "ExecuteTime": {
     "end_time": "2023-12-07T14:47:33.194830300Z",
     "start_time": "2023-12-07T14:47:33.140653800Z"
    }
   },
   "id": "7a88c1221a834837"
  },
  {
   "cell_type": "code",
   "execution_count": 8,
   "outputs": [],
   "source": [
    "trainset = Dataset(train_x, train_y)\n",
    "testset = Dataset(test_x, test_y)\n",
    "TrainDataLoader = Data.DataLoader(trainset, batch_size=batch_size, shuffle=True, drop_last=False)\n",
    "TestDataLoader = Data.DataLoader(testset, batch_size=batch_size, shuffle=False, drop_last=False)"
   ],
   "metadata": {
    "collapsed": false,
    "ExecuteTime": {
     "end_time": "2023-12-07T14:47:33.257485300Z",
     "start_time": "2023-12-07T14:47:33.158703100Z"
    }
   },
   "id": "6fcbe9108227d971"
  },
  {
   "cell_type": "code",
   "execution_count": 9,
   "outputs": [
    {
     "name": "stdout",
     "output_type": "stream",
     "text": [
      "torch.Size([20000, 16]) torch.Size([20000, 1])\n"
     ]
    }
   ],
   "source": [
    "for i,(v,j) in enumerate(TrainDataLoader):\n",
    "    print(v.shape,j.shape)\n",
    "    break"
   ],
   "metadata": {
    "collapsed": false,
    "ExecuteTime": {
     "end_time": "2023-12-07T14:47:33.363835600Z",
     "start_time": "2023-12-07T14:47:33.189326100Z"
    }
   },
   "id": "533e3fdad6f8cd45"
  },
  {
   "cell_type": "markdown",
   "source": [
    "### Neural Network Architecture"
   ],
   "metadata": {
    "collapsed": false
   },
   "id": "95d840dc766e71f7"
  },
  {
   "cell_type": "code",
   "execution_count": 10,
   "outputs": [],
   "source": [
    "# Define the neural network\n",
    "class network(nn.Module):\n",
    "    def __init__(self):\n",
    "        super(network, self).__init__()\n",
    "        self.layer1 = nn.Linear(train_x.shape[1], train_x.shape[1]*2)\n",
    "        self.layer2 = nn.Linear(train_x.shape[1]*2, 32)\n",
    "        self.layer3 = nn.Linear(32, 16)\n",
    "        self.layer4 = nn.Linear(16, 4)\n",
    "        self.layer5 = nn.Linear(4, 1)\n",
    "        self.activation = nn.Tanh()\n",
    "        self.dropout = nn.Dropout(0.1)\n",
    "\n",
    "    def forward(self, x):\n",
    "        x = self.layer1(x)\n",
    "        x = self.activation(x)\n",
    "        x = self.dropout(x)\n",
    "        x = self.layer2(x)\n",
    "        x = self.activation(x)\n",
    "        x = self.dropout(x)\n",
    "        x = self.layer3(x)\n",
    "        x = self.activation(x)\n",
    "        x = self.dropout(x)\n",
    "        x = self.layer4(x)\n",
    "        x = self.activation(x)\n",
    "        x = self.dropout(x)\n",
    "        x = self.layer5(x)\n",
    "  \n",
    "        return x"
   ],
   "metadata": {
    "collapsed": false,
    "ExecuteTime": {
     "end_time": "2023-12-07T14:47:33.394980800Z",
     "start_time": "2023-12-07T14:47:33.359833800Z"
    }
   },
   "id": "390e3d6f300ec0b8"
  },
  {
   "cell_type": "code",
   "execution_count": 11,
   "outputs": [
    {
     "data": {
      "text/plain": "network(\n  (layer1): Linear(in_features=16, out_features=32, bias=True)\n  (layer2): Linear(in_features=32, out_features=32, bias=True)\n  (layer3): Linear(in_features=32, out_features=16, bias=True)\n  (layer4): Linear(in_features=16, out_features=4, bias=True)\n  (layer5): Linear(in_features=4, out_features=1, bias=True)\n  (activation): Tanh()\n  (dropout): Dropout(p=0.1, inplace=False)\n)"
     },
     "execution_count": 11,
     "metadata": {},
     "output_type": "execute_result"
    }
   ],
   "source": [
    "net = network().to(device)\n",
    "criterion = nn.MSELoss()\n",
    "optimizer = optim.Adam(net.parameters(), lr=learning_rate)\n",
    "net"
   ],
   "metadata": {
    "collapsed": false,
    "ExecuteTime": {
     "end_time": "2023-12-07T14:47:38.870414Z",
     "start_time": "2023-12-07T14:47:33.376363200Z"
    }
   },
   "id": "3b27ac9746f595ac"
  },
  {
   "cell_type": "markdown",
   "source": [
    "### Training"
   ],
   "metadata": {
    "collapsed": false
   },
   "id": "9c39054d089a7d72"
  },
  {
   "cell_type": "code",
   "execution_count": 12,
   "outputs": [],
   "source": [
    "# metrics lists\n",
    "train_loss_history = []\n",
    "train_r2_history = []\n",
    "val_loss_history = []\n",
    "val_r2_history = []\n",
    "val_rho_history = []"
   ],
   "metadata": {
    "collapsed": false,
    "ExecuteTime": {
     "end_time": "2023-12-07T14:47:38.887463500Z",
     "start_time": "2023-12-07T14:47:38.873414900Z"
    }
   },
   "id": "3d70748bd7b52f6a"
  },
  {
   "cell_type": "code",
   "execution_count": 13,
   "outputs": [
    {
     "name": "stderr",
     "output_type": "stream",
     "text": [
      "Training:   4%|▍         | 10/250 [00:14<04:22,  1.09s/it]"
     ]
    },
    {
     "name": "stdout",
     "output_type": "stream",
     "text": [
      "Current Epoch: 10/250  | Train Loss: 0.971619188785553  | Train R2: 0.03263999547209717  | Val Loss: 0.5053271055221558  | Val Rho: 0.7948377545728991  | Val R2: 0.05779774751996003\n"
     ]
    },
    {
     "name": "stderr",
     "output_type": "stream",
     "text": [
      "Training:   8%|▊         | 20/250 [00:24<03:57,  1.03s/it]"
     ]
    },
    {
     "name": "stdout",
     "output_type": "stream",
     "text": [
      "Current Epoch: 20/250  | Train Loss: 0.7829652428627014  | Train R2: 0.24496220338776964  | Val Loss: 0.3763584494590759  | Val Rho: 0.8589360657851901  | Val R2: 0.29826489067755024\n"
     ]
    },
    {
     "name": "stderr",
     "output_type": "stream",
     "text": [
      "Training:  12%|█▏        | 30/250 [00:35<03:51,  1.05s/it]"
     ]
    },
    {
     "name": "stdout",
     "output_type": "stream",
     "text": [
      "Current Epoch: 30/250  | Train Loss: 0.6006632447242737  | Train R2: 0.41698242471646774  | Val Loss: 0.26876479387283325  | Val Rho: 0.855965272538178  | Val R2: 0.49887743014342767\n"
     ]
    },
    {
     "name": "stderr",
     "output_type": "stream",
     "text": [
      "Training:  16%|█▌        | 40/250 [00:45<03:32,  1.01s/it]"
     ]
    },
    {
     "name": "stdout",
     "output_type": "stream",
     "text": [
      "Current Epoch: 40/250  | Train Loss: 0.49887144565582275  | Train R2: 0.5214293549638951  | Val Loss: 0.21650980412960052  | Val Rho: 0.8469044010451113  | Val R2: 0.5963089209750461\n"
     ]
    },
    {
     "name": "stderr",
     "output_type": "stream",
     "text": [
      "Training:  20%|██        | 50/250 [00:55<03:18,  1.01it/s]"
     ]
    },
    {
     "name": "stdout",
     "output_type": "stream",
     "text": [
      "Current Epoch: 50/250  | Train Loss: 0.42764046788215637  | Train R2: 0.5860039660505334  | Val Loss: 0.19257578253746033  | Val Rho: 0.8406117985096276  | Val R2: 0.6409348746796182\n"
     ]
    },
    {
     "name": "stderr",
     "output_type": "stream",
     "text": [
      "Training:  24%|██▍       | 60/250 [01:05<03:09,  1.00it/s]"
     ]
    },
    {
     "name": "stdout",
     "output_type": "stream",
     "text": [
      "Current Epoch: 60/250  | Train Loss: 0.38133499026298523  | Train R2: 0.6258631239207099  | Val Loss: 0.18175792694091797  | Val Rho: 0.8366438133012724  | Val R2: 0.6611051663829413\n"
     ]
    },
    {
     "name": "stderr",
     "output_type": "stream",
     "text": [
      "Training:  28%|██▊       | 70/250 [01:15<03:00,  1.00s/it]"
     ]
    },
    {
     "name": "stdout",
     "output_type": "stream",
     "text": [
      "Current Epoch: 70/250  | Train Loss: 0.3538989722728729  | Train R2: 0.6561548094168401  | Val Loss: 0.17720066010951996  | Val Rho: 0.8351792472772666  | Val R2: 0.6696023956860517\n"
     ]
    },
    {
     "name": "stderr",
     "output_type": "stream",
     "text": [
      "Training:  32%|███▏      | 80/250 [01:26<03:04,  1.09s/it]"
     ]
    },
    {
     "name": "stdout",
     "output_type": "stream",
     "text": [
      "Current Epoch: 80/250  | Train Loss: 0.3453601598739624  | Train R2: 0.6672905988492739  | Val Loss: 0.17398706078529358  | Val Rho: 0.8365825058408444  | Val R2: 0.6755942703164237\n"
     ]
    },
    {
     "name": "stderr",
     "output_type": "stream",
     "text": [
      "Training:  36%|███▌      | 90/250 [01:36<02:45,  1.04s/it]"
     ]
    },
    {
     "name": "stdout",
     "output_type": "stream",
     "text": [
      "Current Epoch: 90/250  | Train Loss: 0.3275330364704132  | Train R2: 0.678318761927605  | Val Loss: 0.1698329597711563  | Val Rho: 0.8398984702479001  | Val R2: 0.6833397532058942\n"
     ]
    },
    {
     "name": "stderr",
     "output_type": "stream",
     "text": [
      "Training:  40%|████      | 100/250 [01:46<02:29,  1.00it/s]"
     ]
    },
    {
     "name": "stdout",
     "output_type": "stream",
     "text": [
      "Current Epoch: 100/250  | Train Loss: 0.32811394333839417  | Train R2: 0.6821739034760729  | Val Loss: 0.16493219137191772  | Val Rho: 0.8438928307313562  | Val R2: 0.6924774241311513\n"
     ]
    },
    {
     "name": "stderr",
     "output_type": "stream",
     "text": [
      "Training:  44%|████▍     | 110/250 [01:56<02:27,  1.05s/it]"
     ]
    },
    {
     "name": "stdout",
     "output_type": "stream",
     "text": [
      "Current Epoch: 110/250  | Train Loss: 0.3214971721172333  | Train R2: 0.6878082183176775  | Val Loss: 0.16042158007621765  | Val Rho: 0.847693966950048  | Val R2: 0.7008876335785669\n"
     ]
    },
    {
     "name": "stderr",
     "output_type": "stream",
     "text": [
      "Training:  48%|████▊     | 120/250 [02:07<02:11,  1.01s/it]"
     ]
    },
    {
     "name": "stdout",
     "output_type": "stream",
     "text": [
      "Current Epoch: 120/250  | Train Loss: 0.3178524374961853  | Train R2: 0.692197536855925  | Val Loss: 0.15565019845962524  | Val Rho: 0.8513053746964864  | Val R2: 0.7097840779318789\n"
     ]
    },
    {
     "name": "stderr",
     "output_type": "stream",
     "text": [
      "Training:  52%|█████▏    | 130/250 [02:17<02:02,  1.02s/it]"
     ]
    },
    {
     "name": "stdout",
     "output_type": "stream",
     "text": [
      "Current Epoch: 130/250  | Train Loss: 0.3101574182510376  | Train R2: 0.6954614447174012  | Val Loss: 0.152727872133255  | Val Rho: 0.8537925683463221  | Val R2: 0.7152328520157647\n"
     ]
    },
    {
     "name": "stderr",
     "output_type": "stream",
     "text": [
      "Training:  56%|█████▌    | 140/250 [02:27<01:54,  1.05s/it]"
     ]
    },
    {
     "name": "stdout",
     "output_type": "stream",
     "text": [
      "Current Epoch: 140/250  | Train Loss: 0.30741655826568604  | Train R2: 0.7030874027901503  | Val Loss: 0.14995260536670685  | Val Rho: 0.85604627910295  | Val R2: 0.7204074664791449\n"
     ]
    },
    {
     "name": "stderr",
     "output_type": "stream",
     "text": [
      "Training:  60%|██████    | 150/250 [02:38<01:42,  1.03s/it]"
     ]
    },
    {
     "name": "stdout",
     "output_type": "stream",
     "text": [
      "Current Epoch: 150/250  | Train Loss: 0.3079392611980438  | Train R2: 0.7038945224896846  | Val Loss: 0.147367462515831  | Val Rho: 0.8578634626497461  | Val R2: 0.7252275544921881\n"
     ]
    },
    {
     "name": "stderr",
     "output_type": "stream",
     "text": [
      "Training:  64%|██████▍   | 160/250 [02:48<01:33,  1.04s/it]"
     ]
    },
    {
     "name": "stdout",
     "output_type": "stream",
     "text": [
      "Current Epoch: 160/250  | Train Loss: 0.2940215766429901  | Train R2: 0.7147149250928875  | Val Loss: 0.1457156389951706  | Val Rho: 0.8592786260378045  | Val R2: 0.7283074630844439\n"
     ]
    },
    {
     "name": "stderr",
     "output_type": "stream",
     "text": [
      "Training:  68%|██████▊   | 170/250 [02:58<01:21,  1.02s/it]"
     ]
    },
    {
     "name": "stdout",
     "output_type": "stream",
     "text": [
      "Current Epoch: 170/250  | Train Loss: 0.27990472316741943  | Train R2: 0.721086678732184  | Val Loss: 0.14478810131549835  | Val Rho: 0.8601836914332339  | Val R2: 0.7300368558889134\n"
     ]
    },
    {
     "name": "stderr",
     "output_type": "stream",
     "text": [
      "Training:  72%|███████▏  | 180/250 [03:09<01:13,  1.05s/it]"
     ]
    },
    {
     "name": "stdout",
     "output_type": "stream",
     "text": [
      "Current Epoch: 180/250  | Train Loss: 0.2965271770954132  | Train R2: 0.7121560087919456  | Val Loss: 0.143320232629776  | Val Rho: 0.8612994361702061  | Val R2: 0.7327737696462069\n"
     ]
    },
    {
     "name": "stderr",
     "output_type": "stream",
     "text": [
      "Training:  76%|███████▌  | 190/250 [03:19<01:04,  1.08s/it]"
     ]
    },
    {
     "name": "stdout",
     "output_type": "stream",
     "text": [
      "Current Epoch: 190/250  | Train Loss: 0.29527953267097473  | Train R2: 0.7131056782439369  | Val Loss: 0.14246684312820435  | Val Rho: 0.8620948793960559  | Val R2: 0.7343649746270238\n"
     ]
    },
    {
     "name": "stderr",
     "output_type": "stream",
     "text": [
      "Training:  80%|████████  | 200/250 [03:29<00:47,  1.05it/s]"
     ]
    },
    {
     "name": "stdout",
     "output_type": "stream",
     "text": [
      "Current Epoch: 200/250  | Train Loss: 0.28935015201568604  | Train R2: 0.7150105766777386  | Val Loss: 0.14180493354797363  | Val Rho: 0.8630016773241219  | Val R2: 0.7355991224982027\n"
     ]
    },
    {
     "name": "stderr",
     "output_type": "stream",
     "text": [
      "Training:  84%|████████▍ | 210/250 [03:39<00:40,  1.00s/it]"
     ]
    },
    {
     "name": "stdout",
     "output_type": "stream",
     "text": [
      "Current Epoch: 210/250  | Train Loss: 0.2852395474910736  | Train R2: 0.7205813183861436  | Val Loss: 0.14046581089496613  | Val Rho: 0.8641116019270924  | Val R2: 0.7380959470136523\n"
     ]
    },
    {
     "name": "stderr",
     "output_type": "stream",
     "text": [
      "Training:  88%|████████▊ | 220/250 [03:49<00:28,  1.05it/s]"
     ]
    },
    {
     "name": "stdout",
     "output_type": "stream",
     "text": [
      "Current Epoch: 220/250  | Train Loss: 0.2712835669517517  | Train R2: 0.7298702826243733  | Val Loss: 0.13956166803836823  | Val Rho: 0.8649682808807652  | Val R2: 0.7397817579167433\n"
     ]
    },
    {
     "name": "stderr",
     "output_type": "stream",
     "text": [
      "Training:  92%|█████████▏| 230/250 [03:59<00:19,  1.03it/s]"
     ]
    },
    {
     "name": "stdout",
     "output_type": "stream",
     "text": [
      "Current Epoch: 230/250  | Train Loss: 0.28732460737228394  | Train R2: 0.7211041956821451  | Val Loss: 0.1380382478237152  | Val Rho: 0.8662775851656059  | Val R2: 0.7426222494344055\n"
     ]
    },
    {
     "name": "stderr",
     "output_type": "stream",
     "text": [
      "Training:  96%|█████████▌| 240/250 [04:09<00:10,  1.01s/it]"
     ]
    },
    {
     "name": "stdout",
     "output_type": "stream",
     "text": [
      "Current Epoch: 240/250  | Train Loss: 0.27680253982543945  | Train R2: 0.7367880656712729  | Val Loss: 0.1376217007637024  | Val Rho: 0.8667774219484651  | Val R2: 0.7433989318534906\n"
     ]
    },
    {
     "name": "stderr",
     "output_type": "stream",
     "text": [
      "Training: 100%|██████████| 250/250 [04:19<00:00,  1.04s/it]"
     ]
    },
    {
     "name": "stdout",
     "output_type": "stream",
     "text": [
      "Current Epoch: 250/250  | Train Loss: 0.2816678583621979  | Train R2: 0.7251970538171606  | Val Loss: 0.13687090575695038  | Val Rho: 0.8675893230733182  | Val R2: 0.7447988104750058\n"
     ]
    },
    {
     "name": "stderr",
     "output_type": "stream",
     "text": [
      "\n"
     ]
    }
   ],
   "source": [
    "# Perform iterations\n",
    "for epoch in tqdm(range(epochs), desc='Training'):\n",
    "    # create lists\n",
    "    train_loss_lst = []\n",
    "    train_r2_lst = []\n",
    "    val_loss_lst = []\n",
    "    val_r2_lst = []\n",
    "    val_rho_lst = []\n",
    "    \n",
    "    \n",
    "    # ====== Training Mode ======\n",
    "    net.train()\n",
    "    for (x_input, y_true) in TrainDataLoader:\n",
    "        # attach to GPU\n",
    "        x_input = x_input.to(device)\n",
    "        y_true = y_true.to(device)\n",
    "        # gain outputs\n",
    "        outputs = net(x_input)\n",
    "        # compute loss\n",
    "        loss = criterion(outputs, y_true)\n",
    "        # Back propagation\n",
    "        optimizer.zero_grad()\n",
    "        loss.backward()\n",
    "        optimizer.step()\n",
    "        # r2 = r_squared(y_true, outputs)\n",
    "        r2 = metrics.r2_score(y_true.detach().cpu().numpy().squeeze(),outputs.detach().cpu().numpy().squeeze())\n",
    "        # append results\n",
    "        train_loss_lst.append(loss.item())\n",
    "        train_r2_lst.append(r2)\n",
    "    # Append the performance result after each epoch\n",
    "    best_perform = train_r2_lst.index(max(train_r2_lst))\n",
    "    train_loss_history.append(train_loss_lst[best_perform])\n",
    "    train_r2_history.append(train_r2_lst[best_perform])\n",
    "    # ====== Training Mode End ======\n",
    "    \n",
    "    \n",
    "    # ====== Testing Mode ======\n",
    "    net.eval()\n",
    "    for (x_val_input, y_val_input) in TestDataLoader:\n",
    "        # attach to GPU\n",
    "        x_val_input = x_val_input.to(device)\n",
    "        y_val_input = y_val_input.to(device)\n",
    "        # gain outputs\n",
    "        outputs = net(x_val_input)\n",
    "        # compute loss\n",
    "        loss = criterion(outputs, y_val_input)\n",
    "        # r2 = r_squared(y_val_input, outputs) & Rho\n",
    "        r2 = metrics.r2_score(y_val_input.detach().cpu().numpy().squeeze(),outputs.detach().cpu().numpy().squeeze())\n",
    "        rho = np.corrcoef(y_val_input.detach().cpu().numpy().squeeze(), outputs.detach().cpu().numpy().squeeze())[0][1]\n",
    "        # append results\n",
    "        val_rho_lst.append(rho)\n",
    "        val_loss_lst.append(loss.item())\n",
    "        val_r2_lst.append(r2)\n",
    "    # Append the performance result after each epoch\n",
    "    best_perform = val_r2_lst.index(max(val_r2_lst))\n",
    "    val_loss_history.append(val_loss_lst[best_perform])\n",
    "    val_r2_history.append(val_r2_lst[best_perform])\n",
    "    val_rho_history.append(val_rho_lst[best_perform])\n",
    "    # ====== Testing Mode End ======\n",
    "    \n",
    "    \n",
    "    # output the performance every 10 times\n",
    "    if str(epoch+1).endswith(\"0\"):\n",
    "        print(\"Current Epoch: \"+str(epoch+1)+\"/\"+str(epochs), \" | Train Loss: \"+str(train_loss_history[-1]), \" | Train R2: \"+str(train_r2_history[-1]),\" | Val Loss: \"+str(val_loss_history[-1]),\" | Val Rho: \"+str(val_rho_history[-1]),\" | Val R2: \"+str(val_r2_history[-1]))"
   ],
   "metadata": {
    "collapsed": false,
    "ExecuteTime": {
     "end_time": "2023-12-07T14:51:58.360696900Z",
     "start_time": "2023-12-07T14:47:38.887463500Z"
    }
   },
   "id": "4bbd7ee280cc8e4a"
  },
  {
   "cell_type": "markdown",
   "source": [
    "### Save model parameters"
   ],
   "metadata": {
    "collapsed": false
   },
   "id": "10b2aa640630de2"
  },
  {
   "cell_type": "code",
   "execution_count": 14,
   "outputs": [
    {
     "name": "stdout",
     "output_type": "stream",
     "text": [
      "Model saved to local disk.\n",
      "Evaluation Metrics saved to local disk.\n"
     ]
    }
   ],
   "source": [
    "# Save Model Path\n",
    "path = \"WildFire CNN Prediction.pth\"\n",
    "torch.save(net.state_dict(),path)\n",
    "print(\"Model saved to local disk.\")\n",
    "\n",
    "evaluation = pd.DataFrame(columns = [\"train loss\",\"train accuracy\",\"validation loss\",\"validation accuracy\",\"validation Rho\"])\n",
    "evaluation[\"train loss\"] =train_loss_history\n",
    "evaluation[\"train accuracy\"] =train_r2_history\n",
    "evaluation[\"validation loss\"] =val_loss_history\n",
    "evaluation[\"validation accuracy\"] = val_r2_history\n",
    "evaluation[\"validation Rho\"] = val_rho_history\n",
    "evaluation.to_csv(\"model_cnn_evaluation.csv\",index=False)\n",
    "print(\"Evaluation Metrics saved to local disk.\")"
   ],
   "metadata": {
    "collapsed": false,
    "ExecuteTime": {
     "end_time": "2023-12-07T14:51:58.430871Z",
     "start_time": "2023-12-07T14:51:58.351189700Z"
    }
   },
   "id": "b48e804866674d7a"
  },
  {
   "cell_type": "markdown",
   "source": [
    "### Model Performance Check"
   ],
   "metadata": {
    "collapsed": false
   },
   "id": "b7877541abe6d411"
  },
  {
   "cell_type": "code",
   "execution_count": 15,
   "outputs": [
    {
     "data": {
      "text/plain": "<matplotlib.legend.Legend at 0x245b1d02580>"
     },
     "execution_count": 15,
     "metadata": {},
     "output_type": "execute_result"
    },
    {
     "data": {
      "text/plain": "<Figure size 640x480 with 1 Axes>",
      "image/png": "[encoded data removed]"
     },
     "metadata": {},
     "output_type": "display_data"
    }
   ],
   "source": [
    "plt.plot(train_loss_history, label = \"train loss\")\n",
    "plt.plot(val_loss_history, label = \"test loss\")\n",
    "plt.title(\"Loss Diagram of Model\")\n",
    "plt.legend()"
   ],
   "metadata": {
    "collapsed": false,
    "ExecuteTime": {
     "end_time": "2023-12-07T14:51:58.614607900Z",
     "start_time": "2023-12-07T14:51:58.429870200Z"
    }
   },
   "id": "9773b3cbfc3cf6a5"
  },
  {
   "cell_type": "code",
   "execution_count": 16,
   "outputs": [
    {
     "data": {
      "text/plain": "<matplotlib.legend.Legend at 0x245b1d05f10>"
     },
     "execution_count": 16,
     "metadata": {},
     "output_type": "execute_result"
    },
    {
     "data": {
      "text/plain": "<Figure size 640x480 with 1 Axes>",
      "image/png": "[encoded data removed]"
     },
     "metadata": {},
     "output_type": "display_data"
    }
   ],
   "source": [
    "plt.plot(train_r2_history, label = \"train accuracy\")\n",
    "plt.plot(val_r2_history, label = \"test accuracy\")\n",
    "plt.title(\"Accuracy (R-squared) Diagram of Model\")\n",
    "plt.legend()"
   ],
   "metadata": {
    "collapsed": false,
    "ExecuteTime": {
     "end_time": "2023-12-07T14:51:58.778652700Z",
     "start_time": "2023-12-07T14:51:58.616110800Z"
    }
   },
   "id": "8d198a7382acb16"
  },
  {
   "cell_type": "code",
   "execution_count": 17,
   "outputs": [
    {
     "data": {
      "text/plain": "Text(0.5, 1.0, 'Correlation between prediction & true burned area')"
     },
     "execution_count": 17,
     "metadata": {},
     "output_type": "execute_result"
    },
    {
     "data": {
      "text/plain": "<Figure size 640x480 with 1 Axes>",
      "image/png": "[encoded data removed]"
     },
     "metadata": {},
     "output_type": "display_data"
    }
   ],
   "source": [
    "plt.plot(val_rho_history)\n",
    "plt.title(\"Correlation between prediction & true burned area\")"
   ],
   "metadata": {
    "collapsed": false,
    "ExecuteTime": {
     "end_time": "2023-12-07T14:51:58.920512800Z",
     "start_time": "2023-12-07T14:51:58.772144400Z"
    }
   },
   "id": "d18c756fbcb6b031"
  }
 ],
 "metadata": {
  "kernelspec": {
   "display_name": "Python 3 (ipykernel)",
   "language": "python",
   "name": "python3"
  },
  "language_info": {
   "codemirror_mode": {
    "name": "ipython",
    "version": 3
   },
   "file_extension": ".py",
   "mimetype": "text/x-python",
   "name": "python",
   "nbconvert_exporter": "python",
   "pygments_lexer": "ipython3",
   "version": "3.9.18"
  }
 },
 "nbformat": 4,
 "nbformat_minor": 5
}
