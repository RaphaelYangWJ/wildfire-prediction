{
 "cells": [
  {
   "cell_type": "markdown",
   "id": "4b8bac000b8f7916",
   "metadata": {
    "collapsed": false
   },
   "source": [
    "# WildFire ML Project - Deep Neural Networks"
   ]
  },
  {
   "cell_type": "markdown",
   "id": "ebb955738c3e450c",
   "metadata": {
    "collapsed": false
   },
   "source": [
    "### Import Modules"
   ]
  },
  {
   "cell_type": "code",
   "execution_count": 1,
   "id": "29f9877f3bf25bcd",
   "metadata": {
    "collapsed": false,
    "ExecuteTime": {
     "end_time": "2023-12-08T02:03:20.729121900Z",
     "start_time": "2023-12-08T02:03:16.664941300Z"
    }
   },
   "outputs": [],
   "source": [
    "# import matplotlib.pyplot as plt\n",
    "import numpy as np\n",
    "import pandas as pd\n",
    "import torch.nn as nn\n",
    "import torch.optim as optim\n",
    "import torch.utils.data as Data\n",
    "from tqdm import tqdm\n",
    "from sklearn import metrics\n",
    "import torch\n",
    "from sklearn.preprocessing import StandardScaler\n",
    "import matplotlib.pyplot as plt\n",
    "%matplotlib inline\n",
    "import warnings\n",
    "warnings.filterwarnings(\"ignore\")"
   ]
  },
  {
   "cell_type": "code",
   "execution_count": 19,
   "id": "cd952740d8525e76",
   "metadata": {
    "collapsed": false,
    "ExecuteTime": {
     "end_time": "2023-12-02T09:07:41.523193700Z",
     "start_time": "2023-12-02T09:07:41.131871300Z"
    }
   },
   "outputs": [],
   "source": [
    "# set seed\n",
    "torch.cuda.manual_seed(1)\n",
    "# Switch to GPU for Training\n",
    "device = torch.device(\"cuda\" if torch.cuda.is_available() else \"cpu\")\n",
    "# Clear GPU caches\n",
    "torch.cuda.empty_cache()\n",
    "# print(torch.cuda.memory_summary())"
   ]
  },
  {
   "cell_type": "markdown",
   "source": [
    "### Parameters Setup"
   ],
   "metadata": {
    "collapsed": false
   },
   "id": "9700ef229574da1a"
  },
  {
   "cell_type": "code",
   "execution_count": 20,
   "outputs": [],
   "source": [
    "batch_size = 20000 # 20000\n",
    "split_ratio = 0.8\n",
    "learning_rate = 0.00015\n",
    "epochs = 250"
   ],
   "metadata": {
    "collapsed": false,
    "ExecuteTime": {
     "end_time": "2023-12-02T09:07:41.524194Z",
     "start_time": "2023-12-02T09:07:41.146897400Z"
    }
   },
   "id": "8f8f3047a4382aac"
  },
  {
   "cell_type": "markdown",
   "id": "221f81736ab3fde5",
   "metadata": {
    "collapsed": false
   },
   "source": [
    "### Load Dataset"
   ]
  },
  {
   "cell_type": "code",
   "execution_count": 21,
   "id": "c2e6fec17907ecb8",
   "metadata": {
    "collapsed": false,
    "ExecuteTime": {
     "end_time": "2023-12-02T09:07:41.666877600Z",
     "start_time": "2023-12-02T09:07:41.161945700Z"
    }
   },
   "outputs": [
    {
     "name": "stdout",
     "output_type": "stream",
     "text": [
      "Index(['fuel_load_cwdc', 'fuel_load_deadcrootc', 'fuel_wetness',\n",
      "       'fuel_temperature', 'climate_wind', 'climate_tbot', 'climate_rh2m',\n",
      "       'climate_rain', 'human_density', 'light_frequency', 'burned_area',\n",
      "       'burned_area_mom', 'burned_area_yoy', 'month', 'sequence', 'lat',\n",
      "       'lon'],\n",
      "      dtype='object')\n",
      "(107433, 14) (107433, 1)\n"
     ]
    }
   ],
   "source": [
    "# import dataset\n",
    "dataset = pd.read_csv(\"modeling_data.csv\")\n",
    "print(dataset.columns)\n",
    "# get x and y\n",
    "x = dataset[['fuel_load_cwdc', 'fuel_load_deadcrootc', 'fuel_wetness', 'fuel_temperature', 'climate_wind', 'climate_tbot', 'climate_rh2m', 'climate_rain', 'human_density', 'light_frequency',\"burned_area_mom\",\"burned_area_yoy\",\"lat\",\"month\"]]\n",
    "y = dataset[\"burned_area\"]\n",
    "# convert to numpy\n",
    "x = np.array(x)\n",
    "y = np.array(y).reshape(-1, 1)\n",
    "print(x.shape, y.shape)"
   ]
  },
  {
   "cell_type": "markdown",
   "source": [
    "### Standardization / Normalization"
   ],
   "metadata": {
    "collapsed": false
   },
   "id": "dd3aa75babb959b2"
  },
  {
   "cell_type": "code",
   "execution_count": 22,
   "outputs": [],
   "source": [
    "scaler_X = StandardScaler()\n",
    "scaler_y = StandardScaler()\n",
    "x_stand = scaler_X.fit_transform(x)\n",
    "y_stand = scaler_y.fit_transform(y)"
   ],
   "metadata": {
    "collapsed": false,
    "ExecuteTime": {
     "end_time": "2023-12-02T09:07:41.709194Z",
     "start_time": "2023-12-02T09:07:41.652326900Z"
    }
   },
   "id": "3013428bf2335907"
  },
  {
   "cell_type": "markdown",
   "id": "7a305aeb7716ea4a",
   "metadata": {
    "collapsed": false
   },
   "source": [
    "### Train Test Split"
   ]
  },
  {
   "cell_type": "code",
   "execution_count": 23,
   "outputs": [],
   "source": [
    "train_x = x_stand[0:int(split_ratio*len(x_stand)),:]\n",
    "train_y = y_stand[0:int(split_ratio*len(y_stand)),:]\n",
    "test_x = x_stand[int(split_ratio*len(x_stand)):x_stand.shape[0],:]\n",
    "test_y = y_stand[int(split_ratio*len(y_stand)):y_stand.shape[0],:]"
   ],
   "metadata": {
    "collapsed": false,
    "ExecuteTime": {
     "end_time": "2023-12-02T09:07:41.734753800Z",
     "start_time": "2023-12-02T09:07:41.682900600Z"
    }
   },
   "id": "ae1637504aa2193a"
  },
  {
   "cell_type": "markdown",
   "source": [
    "### Define Dataset and Dataloader"
   ],
   "metadata": {
    "collapsed": false
   },
   "id": "c54cbeaaa101c1f9"
  },
  {
   "cell_type": "code",
   "execution_count": 24,
   "outputs": [],
   "source": [
    "class Dataset(torch.utils.data.Dataset):\n",
    "    def __init__(self, data_inputs, data_targets):\n",
    "        self.inputs = torch.tensor(data_inputs).float()\n",
    "        self.label = torch.tensor(data_targets).float()\n",
    "\n",
    "    def __getitem__(self, idx):\n",
    "        x = self.inputs[idx]\n",
    "        y = self.label[idx]\n",
    "        return x, y\n",
    "\n",
    "    def __len__(self):\n",
    "        return len(self.label)"
   ],
   "metadata": {
    "collapsed": false,
    "ExecuteTime": {
     "end_time": "2023-12-02T09:07:41.735754Z",
     "start_time": "2023-12-02T09:07:41.698420900Z"
    }
   },
   "id": "7a88c1221a834837"
  },
  {
   "cell_type": "code",
   "execution_count": 25,
   "outputs": [],
   "source": [
    "trainset = Dataset(train_x, train_y)\n",
    "testset = Dataset(test_x, test_y)\n",
    "TrainDataLoader = Data.DataLoader(trainset, batch_size=batch_size, shuffle=True, drop_last=False)\n",
    "TestDataLoader = Data.DataLoader(testset, batch_size=batch_size, shuffle=False, drop_last=False)"
   ],
   "metadata": {
    "collapsed": false,
    "ExecuteTime": {
     "end_time": "2023-12-02T09:07:41.735754Z",
     "start_time": "2023-12-02T09:07:41.712719900Z"
    }
   },
   "id": "6fcbe9108227d971"
  },
  {
   "cell_type": "code",
   "execution_count": 26,
   "outputs": [
    {
     "name": "stdout",
     "output_type": "stream",
     "text": [
      "torch.Size([20000, 14]) torch.Size([20000, 1])\n"
     ]
    }
   ],
   "source": [
    "for i,(v,j) in enumerate(TrainDataLoader):\n",
    "    print(v.shape,j.shape)\n",
    "    break"
   ],
   "metadata": {
    "collapsed": false,
    "ExecuteTime": {
     "end_time": "2023-12-02T09:07:41.980955200Z",
     "start_time": "2023-12-02T09:07:41.727227600Z"
    }
   },
   "id": "533e3fdad6f8cd45"
  },
  {
   "cell_type": "markdown",
   "source": [
    "### Neural Network Architecture"
   ],
   "metadata": {
    "collapsed": false
   },
   "id": "95d840dc766e71f7"
  },
  {
   "cell_type": "code",
   "execution_count": 27,
   "outputs": [],
   "source": [
    "# Define the neural network\n",
    "class network(nn.Module):\n",
    "    def __init__(self):\n",
    "        super(network, self).__init__()\n",
    "        self.layer1 = nn.Linear(train_x.shape[1], train_x.shape[1]*2)\n",
    "        self.layer2 = nn.Linear(train_x.shape[1]*2, 32)\n",
    "        self.layer3 = nn.Linear(32, 16)\n",
    "        self.layer4 = nn.Linear(16, 4)\n",
    "        self.layer5 = nn.Linear(4, 1)\n",
    "        self.activation = nn.Tanh()\n",
    "        self.dropout = nn.Dropout(0.1)\n",
    "\n",
    "    def forward(self, x):\n",
    "        x = self.layer1(x)\n",
    "        x = self.activation(x)\n",
    "        x = self.dropout(x)\n",
    "        x = self.layer2(x)\n",
    "        x = self.activation(x)\n",
    "        x = self.dropout(x)\n",
    "        x = self.layer3(x)\n",
    "        x = self.activation(x)\n",
    "        x = self.dropout(x)\n",
    "        x = self.layer4(x)\n",
    "        x = self.activation(x)\n",
    "        x = self.dropout(x)\n",
    "        x = self.layer5(x)\n",
    "  \n",
    "        return x"
   ],
   "metadata": {
    "collapsed": false,
    "ExecuteTime": {
     "end_time": "2023-12-02T09:07:42.017183300Z",
     "start_time": "2023-12-02T09:07:41.977451800Z"
    }
   },
   "id": "390e3d6f300ec0b8"
  },
  {
   "cell_type": "code",
   "execution_count": 28,
   "outputs": [
    {
     "data": {
      "text/plain": "network(\n  (layer1): Linear(in_features=14, out_features=28, bias=True)\n  (layer2): Linear(in_features=28, out_features=32, bias=True)\n  (layer3): Linear(in_features=32, out_features=16, bias=True)\n  (layer4): Linear(in_features=16, out_features=4, bias=True)\n  (layer5): Linear(in_features=4, out_features=1, bias=True)\n  (activation): Tanh()\n  (dropout): Dropout(p=0.1, inplace=False)\n)"
     },
     "execution_count": 28,
     "metadata": {},
     "output_type": "execute_result"
    }
   ],
   "source": [
    "net = network().to(device)\n",
    "criterion = nn.MSELoss()\n",
    "optimizer = optim.Adam(net.parameters(), lr=learning_rate)\n",
    "net"
   ],
   "metadata": {
    "collapsed": false,
    "ExecuteTime": {
     "end_time": "2023-12-02T09:07:42.039389600Z",
     "start_time": "2023-12-02T09:07:41.991655100Z"
    }
   },
   "id": "3b27ac9746f595ac"
  },
  {
   "cell_type": "markdown",
   "source": [
    "### Training"
   ],
   "metadata": {
    "collapsed": false
   },
   "id": "9c39054d089a7d72"
  },
  {
   "cell_type": "code",
   "execution_count": 29,
   "outputs": [],
   "source": [
    "# metrics lists\n",
    "train_loss_history = []\n",
    "train_r2_history = []\n",
    "val_loss_history = []\n",
    "val_r2_history = []\n",
    "val_rho_history = []"
   ],
   "metadata": {
    "collapsed": false,
    "ExecuteTime": {
     "end_time": "2023-12-02T09:07:42.040893400Z",
     "start_time": "2023-12-02T09:07:42.005293900Z"
    }
   },
   "id": "3d70748bd7b52f6a"
  },
  {
   "cell_type": "code",
   "execution_count": 30,
   "outputs": [
    {
     "name": "stderr",
     "output_type": "stream",
     "text": [
      "Training:   4%|▍         | 10/250 [00:12<04:41,  1.17s/it]"
     ]
    },
    {
     "name": "stdout",
     "output_type": "stream",
     "text": [
      "Current Epoch: 10/250  | Train Loss: 0.9272680878639221  | Train R2: 0.09083509869884643  | Val Loss: 0.7629254460334778  | Val Rho: 0.8295805741501352  | Val R2: -0.42012602106826913\n"
     ]
    },
    {
     "name": "stderr",
     "output_type": "stream",
     "text": [
      "Training:   8%|▊         | 20/250 [00:23<04:20,  1.13s/it]"
     ]
    },
    {
     "name": "stdout",
     "output_type": "stream",
     "text": [
      "Current Epoch: 20/250  | Train Loss: 0.7813764214515686  | Train R2: 0.23917034813030968  | Val Loss: 0.5639029145240784  | Val Rho: 0.8389042485205979  | Val R2: -0.04966108383866619\n"
     ]
    },
    {
     "name": "stderr",
     "output_type": "stream",
     "text": [
      "Training:  12%|█▏        | 30/250 [00:34<04:04,  1.11s/it]"
     ]
    },
    {
     "name": "stdout",
     "output_type": "stream",
     "text": [
      "Current Epoch: 30/250  | Train Loss: 0.6153140664100647  | Train R2: 0.39538027596049397  | Val Loss: 0.3834443688392639  | Val Rho: 0.8287203098837932  | Val R2: 0.28624833479347445\n"
     ]
    },
    {
     "name": "stderr",
     "output_type": "stream",
     "text": [
      "Training:  16%|█▌        | 40/250 [00:45<03:56,  1.13s/it]"
     ]
    },
    {
     "name": "stdout",
     "output_type": "stream",
     "text": [
      "Current Epoch: 40/250  | Train Loss: 0.4927893877029419  | Train R2: 0.5163499936724874  | Val Loss: 0.29738572239875793  | Val Rho: 0.8140926108997277  | Val R2: 0.44643969905373304\n"
     ]
    },
    {
     "name": "stderr",
     "output_type": "stream",
     "text": [
      "Training:  20%|██        | 50/250 [00:56<03:42,  1.11s/it]"
     ]
    },
    {
     "name": "stdout",
     "output_type": "stream",
     "text": [
      "Current Epoch: 50/250  | Train Loss: 0.41826286911964417  | Train R2: 0.5891794736191125  | Val Loss: 0.256697416305542  | Val Rho: 0.8053538028349668  | Val R2: 0.5221778696984523\n"
     ]
    },
    {
     "name": "stderr",
     "output_type": "stream",
     "text": [
      "Training:  24%|██▍       | 60/250 [01:08<03:34,  1.13s/it]"
     ]
    },
    {
     "name": "stdout",
     "output_type": "stream",
     "text": [
      "Current Epoch: 60/250  | Train Loss: 0.37136054039001465  | Train R2: 0.6341025454383588  | Val Loss: 0.23220199346542358  | Val Rho: 0.8010476161827365  | Val R2: 0.5677741775407791\n"
     ]
    },
    {
     "name": "stderr",
     "output_type": "stream",
     "text": [
      "Training:  28%|██▊       | 70/250 [01:18<03:11,  1.07s/it]"
     ]
    },
    {
     "name": "stdout",
     "output_type": "stream",
     "text": [
      "Current Epoch: 70/250  | Train Loss: 0.35055649280548096  | Train R2: 0.6608155741486548  | Val Loss: 0.21753446757793427  | Val Rho: 0.7980083762613253  | Val R2: 0.595076587848602\n"
     ]
    },
    {
     "name": "stderr",
     "output_type": "stream",
     "text": [
      "Training:  32%|███▏      | 80/250 [01:29<02:59,  1.06s/it]"
     ]
    },
    {
     "name": "stdout",
     "output_type": "stream",
     "text": [
      "Current Epoch: 80/250  | Train Loss: 0.3424771726131439  | Train R2: 0.6680764040595627  | Val Loss: 0.20817485451698303  | Val Rho: 0.7973750040991981  | Val R2: 0.6124988241863049\n"
     ]
    },
    {
     "name": "stderr",
     "output_type": "stream",
     "text": [
      "Training:  36%|███▌      | 90/250 [01:40<02:49,  1.06s/it]"
     ]
    },
    {
     "name": "stdout",
     "output_type": "stream",
     "text": [
      "Current Epoch: 90/250  | Train Loss: 0.33177900314331055  | Train R2: 0.6829095182893083  | Val Loss: 0.20248310267925262  | Val Rho: 0.7978256119935027  | Val R2: 0.6230935388134395\n"
     ]
    },
    {
     "name": "stderr",
     "output_type": "stream",
     "text": [
      "Training:  40%|████      | 100/250 [01:51<02:45,  1.10s/it]"
     ]
    },
    {
     "name": "stdout",
     "output_type": "stream",
     "text": [
      "Current Epoch: 100/250  | Train Loss: 0.3290594220161438  | Train R2: 0.6794169602509326  | Val Loss: 0.1978399157524109  | Val Rho: 0.800036874950669  | Val R2: 0.6317364827517933\n"
     ]
    },
    {
     "name": "stderr",
     "output_type": "stream",
     "text": [
      "Training:  44%|████▍     | 110/250 [02:02<02:33,  1.10s/it]"
     ]
    },
    {
     "name": "stdout",
     "output_type": "stream",
     "text": [
      "Current Epoch: 110/250  | Train Loss: 0.3246857225894928  | Train R2: 0.6856196272268607  | Val Loss: 0.1943451315164566  | Val Rho: 0.8024582860981857  | Val R2: 0.6382417241149324\n"
     ]
    },
    {
     "name": "stderr",
     "output_type": "stream",
     "text": [
      "Training:  48%|████▊     | 120/250 [02:13<02:14,  1.04s/it]"
     ]
    },
    {
     "name": "stdout",
     "output_type": "stream",
     "text": [
      "Current Epoch: 120/250  | Train Loss: 0.3232284188270569  | Train R2: 0.6864635474910848  | Val Loss: 0.19088301062583923  | Val Rho: 0.8055804061082968  | Val R2: 0.6446861994873067\n"
     ]
    },
    {
     "name": "stderr",
     "output_type": "stream",
     "text": [
      "Training:  52%|█████▏    | 130/250 [02:24<02:14,  1.12s/it]"
     ]
    },
    {
     "name": "stdout",
     "output_type": "stream",
     "text": [
      "Current Epoch: 130/250  | Train Loss: 0.3182491660118103  | Train R2: 0.6905311852854967  | Val Loss: 0.1879403293132782  | Val Rho: 0.8085629107308503  | Val R2: 0.6501638035447697\n"
     ]
    },
    {
     "name": "stderr",
     "output_type": "stream",
     "text": [
      "Training:  56%|█████▌    | 140/250 [02:34<01:50,  1.00s/it]"
     ]
    },
    {
     "name": "stdout",
     "output_type": "stream",
     "text": [
      "Current Epoch: 140/250  | Train Loss: 0.31089478731155396  | Train R2: 0.6927499123019686  | Val Loss: 0.1851842850446701  | Val Rho: 0.8116802816130975  | Val R2: 0.6552939386650061\n"
     ]
    },
    {
     "name": "stderr",
     "output_type": "stream",
     "text": [
      "Training:  60%|██████    | 150/250 [02:44<01:40,  1.00s/it]"
     ]
    },
    {
     "name": "stdout",
     "output_type": "stream",
     "text": [
      "Current Epoch: 150/250  | Train Loss: 0.30790334939956665  | Train R2: 0.6971957417949682  | Val Loss: 0.1822729855775833  | Val Rho: 0.8149015821447427  | Val R2: 0.6607131129155913\n"
     ]
    },
    {
     "name": "stderr",
     "output_type": "stream",
     "text": [
      "Training:  64%|██████▍   | 160/250 [02:54<01:34,  1.05s/it]"
     ]
    },
    {
     "name": "stdout",
     "output_type": "stream",
     "text": [
      "Current Epoch: 160/250  | Train Loss: 0.30598583817481995  | Train R2: 0.7022357585277688  | Val Loss: 0.17990070581436157  | Val Rho: 0.8177043310448341  | Val R2: 0.6651289154905919\n"
     ]
    },
    {
     "name": "stderr",
     "output_type": "stream",
     "text": [
      "Training:  68%|██████▊   | 170/250 [03:04<01:17,  1.03it/s]"
     ]
    },
    {
     "name": "stdout",
     "output_type": "stream",
     "text": [
      "Current Epoch: 170/250  | Train Loss: 0.30427905917167664  | Train R2: 0.7013319385429392  | Val Loss: 0.1773785650730133  | Val Rho: 0.8206481448983293  | Val R2: 0.6698237026906826\n"
     ]
    },
    {
     "name": "stderr",
     "output_type": "stream",
     "text": [
      "Training:  72%|███████▏  | 180/250 [03:14<01:10,  1.01s/it]"
     ]
    },
    {
     "name": "stdout",
     "output_type": "stream",
     "text": [
      "Current Epoch: 180/250  | Train Loss: 0.31195536255836487  | Train R2: 0.7024344885162142  | Val Loss: 0.17513442039489746  | Val Rho: 0.823360344065121  | Val R2: 0.6740009937142886\n"
     ]
    },
    {
     "name": "stderr",
     "output_type": "stream",
     "text": [
      "Training:  76%|███████▌  | 190/250 [03:24<00:57,  1.04it/s]"
     ]
    },
    {
     "name": "stdout",
     "output_type": "stream",
     "text": [
      "Current Epoch: 190/250  | Train Loss: 0.3070983588695526  | Train R2: 0.702491426393873  | Val Loss: 0.1728115975856781  | Val Rho: 0.8261050533225752  | Val R2: 0.6783247541858775\n"
     ]
    },
    {
     "name": "stderr",
     "output_type": "stream",
     "text": [
      "Training:  80%|████████  | 200/250 [03:33<00:48,  1.03it/s]"
     ]
    },
    {
     "name": "stdout",
     "output_type": "stream",
     "text": [
      "Current Epoch: 200/250  | Train Loss: 0.29804930090904236  | Train R2: 0.7084005247829147  | Val Loss: 0.17078658938407898  | Val Rho: 0.8285578975232623  | Val R2: 0.6820941125953638\n"
     ]
    },
    {
     "name": "stderr",
     "output_type": "stream",
     "text": [
      "Training:  84%|████████▍ | 210/250 [03:43<00:38,  1.03it/s]"
     ]
    },
    {
     "name": "stdout",
     "output_type": "stream",
     "text": [
      "Current Epoch: 210/250  | Train Loss: 0.29963186383247375  | Train R2: 0.7065162635498705  | Val Loss: 0.16851572692394257  | Val Rho: 0.8310546701158633  | Val R2: 0.6863211465244909\n"
     ]
    },
    {
     "name": "stderr",
     "output_type": "stream",
     "text": [
      "Training:  88%|████████▊ | 220/250 [03:53<00:28,  1.04it/s]"
     ]
    },
    {
     "name": "stdout",
     "output_type": "stream",
     "text": [
      "Current Epoch: 220/250  | Train Loss: 0.2967234253883362  | Train R2: 0.7096543100511896  | Val Loss: 0.16639955341815948  | Val Rho: 0.8334946456569371  | Val R2: 0.6902602492290395\n"
     ]
    },
    {
     "name": "stderr",
     "output_type": "stream",
     "text": [
      "Training:  92%|█████████▏| 230/250 [04:03<00:19,  1.03it/s]"
     ]
    },
    {
     "name": "stdout",
     "output_type": "stream",
     "text": [
      "Current Epoch: 230/250  | Train Loss: 0.2971254289150238  | Train R2: 0.7109752728346437  | Val Loss: 0.1644531935453415  | Val Rho: 0.8359587000890271  | Val R2: 0.6938832374637385\n"
     ]
    },
    {
     "name": "stderr",
     "output_type": "stream",
     "text": [
      "Training:  96%|█████████▌| 240/250 [04:12<00:09,  1.04it/s]"
     ]
    },
    {
     "name": "stdout",
     "output_type": "stream",
     "text": [
      "Current Epoch: 240/250  | Train Loss: 0.29307207465171814  | Train R2: 0.7152753322564795  | Val Loss: 0.16207344830036163  | Val Rho: 0.8385194995690417  | Val R2: 0.6983129654329128\n"
     ]
    },
    {
     "name": "stderr",
     "output_type": "stream",
     "text": [
      "Training: 100%|██████████| 250/250 [04:22<00:00,  1.05s/it]"
     ]
    },
    {
     "name": "stdout",
     "output_type": "stream",
     "text": [
      "Current Epoch: 250/250  | Train Loss: 0.2935499846935272  | Train R2: 0.7124589602750826  | Val Loss: 0.16017307341098785  | Val Rho: 0.8407081673291418  | Val R2: 0.7018503779099037\n"
     ]
    },
    {
     "name": "stderr",
     "output_type": "stream",
     "text": [
      "\n"
     ]
    }
   ],
   "source": [
    "# Perform iterations\n",
    "for epoch in tqdm(range(epochs), desc='Training'):\n",
    "    # create lists\n",
    "    train_loss_lst = []\n",
    "    train_r2_lst = []\n",
    "    val_loss_lst = []\n",
    "    val_r2_lst = []\n",
    "    val_rho_lst = []\n",
    "    \n",
    "    \n",
    "    # ====== Training Mode ======\n",
    "    net.train()\n",
    "    for (x_input, y_true) in TrainDataLoader:\n",
    "        # attach to GPU\n",
    "        x_input = x_input.to(device)\n",
    "        y_true = y_true.to(device)\n",
    "        # gain outputs\n",
    "        outputs = net(x_input)\n",
    "        # compute loss\n",
    "        loss = criterion(outputs, y_true)\n",
    "        # Back propagation\n",
    "        optimizer.zero_grad()\n",
    "        loss.backward()\n",
    "        optimizer.step()\n",
    "        # r2 = r_squared(y_true, outputs)\n",
    "        r2 = metrics.r2_score(y_true.detach().cpu().numpy().squeeze(),outputs.detach().cpu().numpy().squeeze())\n",
    "        # append results\n",
    "        train_loss_lst.append(loss.item())\n",
    "        train_r2_lst.append(r2)\n",
    "    # Append the performance result after each epoch\n",
    "    best_perform = train_r2_lst.index(max(train_r2_lst))\n",
    "    train_loss_history.append(train_loss_lst[best_perform])\n",
    "    train_r2_history.append(train_r2_lst[best_perform])\n",
    "    # ====== Training Mode End ======\n",
    "    \n",
    "    \n",
    "    # ====== Testing Mode ======\n",
    "    net.eval()\n",
    "    for (x_val_input, y_val_input) in TestDataLoader:\n",
    "        # attach to GPU\n",
    "        x_val_input = x_val_input.to(device)\n",
    "        y_val_input = y_val_input.to(device)\n",
    "        # gain outputs\n",
    "        outputs = net(x_val_input)\n",
    "        # compute loss\n",
    "        loss = criterion(outputs, y_val_input)\n",
    "        # r2 = r_squared(y_val_input, outputs) & Rho\n",
    "        r2 = metrics.r2_score(y_val_input.detach().cpu().numpy().squeeze(),outputs.detach().cpu().numpy().squeeze())\n",
    "        rho = np.corrcoef(y_val_input.detach().cpu().numpy().squeeze(), outputs.detach().cpu().numpy().squeeze())[0][1]\n",
    "        # append results\n",
    "        val_rho_lst.append(rho)\n",
    "        val_loss_lst.append(loss.item())\n",
    "        val_r2_lst.append(r2)\n",
    "    # Append the performance result after each epoch\n",
    "    best_perform = val_r2_lst.index(max(val_r2_lst))\n",
    "    val_loss_history.append(val_loss_lst[best_perform])\n",
    "    val_r2_history.append(val_r2_lst[best_perform])\n",
    "    val_rho_history.append(val_rho_lst[best_perform])\n",
    "    # ====== Testing Mode End ======\n",
    "    \n",
    "    \n",
    "    # output the performance every 10 times\n",
    "    if str(epoch+1).endswith(\"0\"):\n",
    "        print(\"Current Epoch: \"+str(epoch+1)+\"/\"+str(epochs), \" | Train Loss: \"+str(train_loss_history[-1]), \" | Train R2: \"+str(train_r2_history[-1]),\" | Val Loss: \"+str(val_loss_history[-1]),\" | Val Rho: \"+str(val_rho_history[-1]),\" | Val R2: \"+str(val_r2_history[-1]))"
   ],
   "metadata": {
    "collapsed": false,
    "ExecuteTime": {
     "end_time": "2023-12-02T09:12:04.575413600Z",
     "start_time": "2023-12-02T09:07:42.024710700Z"
    }
   },
   "id": "4bbd7ee280cc8e4a"
  },
  {
   "cell_type": "markdown",
   "source": [
    "### Save model parameters"
   ],
   "metadata": {
    "collapsed": false
   },
   "id": "10b2aa640630de2"
  },
  {
   "cell_type": "code",
   "execution_count": 31,
   "outputs": [
    {
     "name": "stdout",
     "output_type": "stream",
     "text": [
      "Model saved to local disk.\n",
      "Evaluation Metrics saved to local disk.\n"
     ]
    }
   ],
   "source": [
    "# Save Model Path\n",
    "path = \"WildFire Prediction.pth\"\n",
    "torch.save(net.state_dict(),path)\n",
    "print(\"Model saved to local disk.\")\n",
    "\n",
    "evaluation = pd.DataFrame(columns = [\"train loss\",\"train accuracy\",\"validation loss\",\"validation accuracy\",\"validation Rho\"])\n",
    "evaluation[\"train loss\"] =train_loss_history\n",
    "evaluation[\"train accuracy\"] =train_r2_history\n",
    "evaluation[\"validation loss\"] =val_loss_history\n",
    "evaluation[\"validation accuracy\"] = val_r2_history\n",
    "evaluation[\"validation Rho\"] = val_rho_history\n",
    "evaluation.to_csv(\"model_evaluation.csv\",index=False)\n",
    "print(\"Evaluation Metrics saved to local disk.\")"
   ],
   "metadata": {
    "collapsed": false,
    "ExecuteTime": {
     "end_time": "2023-12-02T09:12:04.679008100Z",
     "start_time": "2023-12-02T09:12:04.568907300Z"
    }
   },
   "id": "b48e804866674d7a"
  },
  {
   "cell_type": "markdown",
   "source": [
    "### Model Performance Check"
   ],
   "metadata": {
    "collapsed": false
   },
   "id": "b7877541abe6d411"
  },
  {
   "cell_type": "code",
   "execution_count": 32,
   "outputs": [
    {
     "data": {
      "text/plain": "<matplotlib.legend.Legend at 0x1cda1780d90>"
     },
     "execution_count": 32,
     "metadata": {},
     "output_type": "execute_result"
    },
    {
     "data": {
      "text/plain": "<Figure size 640x480 with 1 Axes>",
      "image/png": "[encoded data removed]"
     },
     "metadata": {},
     "output_type": "display_data"
    }
   ],
   "source": [
    "plt.plot(train_loss_history, label = \"train loss\")\n",
    "plt.plot(val_loss_history, label = \"test loss\")\n",
    "plt.title(\"Loss Diagram of Model\")\n",
    "plt.legend()"
   ],
   "metadata": {
    "collapsed": false,
    "ExecuteTime": {
     "end_time": "2023-12-02T09:12:04.843318400Z",
     "start_time": "2023-12-02T09:12:04.674006900Z"
    }
   },
   "id": "9773b3cbfc3cf6a5"
  },
  {
   "cell_type": "code",
   "execution_count": 33,
   "outputs": [
    {
     "data": {
      "text/plain": "<matplotlib.legend.Legend at 0x1cdb439cb20>"
     },
     "execution_count": 33,
     "metadata": {},
     "output_type": "execute_result"
    },
    {
     "data": {
      "text/plain": "<Figure size 640x480 with 1 Axes>",
      "image/png": "[encoded data removed]"
     },
     "metadata": {},
     "output_type": "display_data"
    }
   ],
   "source": [
    "plt.plot(train_r2_history, label = \"train accuracy\")\n",
    "plt.plot(val_r2_history, label = \"test accuracy\")\n",
    "plt.title(\"Accuracy (R-squared) Diagram of Model\")\n",
    "plt.legend()"
   ],
   "metadata": {
    "collapsed": false,
    "ExecuteTime": {
     "end_time": "2023-12-02T09:12:05.017813600Z",
     "start_time": "2023-12-02T09:12:04.831842800Z"
    }
   },
   "id": "8d198a7382acb16"
  },
  {
   "cell_type": "code",
   "execution_count": 34,
   "outputs": [
    {
     "data": {
      "text/plain": "Text(0.5, 1.0, 'Correlation between prediction & true burned area')"
     },
     "execution_count": 34,
     "metadata": {},
     "output_type": "execute_result"
    },
    {
     "data": {
      "text/plain": "<Figure size 640x480 with 1 Axes>",
      "image/png": "[encoded data removed]"
     },
     "metadata": {},
     "output_type": "display_data"
    }
   ],
   "source": [
    "plt.plot(val_rho_history)\n",
    "plt.title(\"Correlation between prediction & true burned area\")"
   ],
   "metadata": {
    "collapsed": false,
    "ExecuteTime": {
     "end_time": "2023-12-02T09:12:05.162113200Z",
     "start_time": "2023-12-02T09:12:05.004293200Z"
    }
   },
   "id": "d18c756fbcb6b031"
  }
 ],
 "metadata": {
  "kernelspec": {
   "display_name": "Python 3 (ipykernel)",
   "language": "python",
   "name": "python3"
  },
  "language_info": {
   "codemirror_mode": {
    "name": "ipython",
    "version": 3
   },
   "file_extension": ".py",
   "mimetype": "text/x-python",
   "name": "python",
   "nbconvert_exporter": "python",
   "pygments_lexer": "ipython3",
   "version": "3.9.18"
  }
 },
 "nbformat": 4,
 "nbformat_minor": 5
}
